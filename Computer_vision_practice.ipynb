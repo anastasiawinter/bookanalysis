{
  "nbformat": 4,
  "nbformat_minor": 0,
  "metadata": {
    "colab": {
      "provenance": [],
      "collapsed_sections": [
        "Zsqdor9eYwRH",
        "xv7ViYvFKJfG",
        "nnBJosG1oUCl",
        "Wm3aRaFh1wkB",
        "wQ2TpNoh5bM8",
        "d1_LoM2503oA",
        "Y2HaRjiO3H38",
        "8leHAJ6T6Vo3",
        "lhA7eHM-3bro",
        "ADgO6sc16CBP",
        "HjGPXbBM_y0Y",
        "5Qc8n72eMMhc",
        "StohKcQ_O1MY",
        "uWaO3J3hO7eQ",
        "j_OkG8iMNUcj",
        "t-BGUcf9zdGq",
        "qhMx1r0oqRWK",
        "87wBGMqLsbrR",
        "T5RGdfrEs8Fo",
        "jitfwkqjtDAD",
        "9Dc646PeyjmW",
        "DzRJAICW0_sE",
        "ktnbFbWI9R_o",
        "4ky2EMhL9cz6",
        "R3gljO3d-FqP",
        "1E7CbMVO-L-i",
        "f5iQy9Y8-yCK",
        "Nl_Mz-WZ_MFA",
        "Yj-DNYWs_tCY",
        "odpMl4IqAFiO",
        "9hYak-G_AZrF",
        "bu8dyoK9AtS-",
        "tOIKSVFbhqpL",
        "a9a7JRkdh8wY",
        "xwwg3wmJ006E",
        "ltW7ms4gutXP",
        "3ESsXYZq1Ufr",
        "F_xtR9nc1fMj",
        "i6dnPA_U1nZa",
        "r_1zAtCi_Vtb",
        "doW7vwFHBvE8",
        "57PB21KCBzS7",
        "fxd9sX3L_zTO",
        "VR2yM5YN1-BO",
        "1x1X2L-72LDa",
        "GsKmogXY2UP9",
        "lAPeB9mp2fz3",
        "nJtrXMv13eXU",
        "pPLIbxZ43rIU",
        "7evI9S4o3Aer",
        "3ofqUpqw3UmS"
      ],
      "include_colab_link": true
    },
    "kernelspec": {
      "name": "python3",
      "display_name": "Python 3"
    },
    "language_info": {
      "name": "python"
    },
    "accelerator": "GPU",
    "gpuClass": "standard"
  },
  "cells": [
    {
      "cell_type": "markdown",
      "metadata": {
        "id": "view-in-github",
        "colab_type": "text"
      },
      "source": [
        "<a href=\"https://colab.research.google.com/github/anastasiawinter/bookanalysis/blob/main/Computer_vision_practice.ipynb\" target=\"_parent\"><img src=\"https://colab.research.google.com/assets/colab-badge.svg\" alt=\"Open In Colab\"/></a>"
      ]
    },
    {
      "cell_type": "markdown",
      "source": [
        "#**Работа с видео и разбиение его на кадры**"
      ],
      "metadata": {
        "id": "Zsqdor9eYwRH"
      }
    },
    {
      "cell_type": "markdown",
      "source": [
        "## **Шаг 1:** импортируем необходимые нам библиотеки, скачиваем данные и создаём нужные нам директории (не забудьте изменить Runtime на GPU)"
      ],
      "metadata": {
        "id": "xv7ViYvFKJfG"
      }
    },
    {
      "cell_type": "code",
      "source": [
        "import cv2\n",
        "from tqdm import tqdm\n",
        "import numpy as np\n",
        "import re\n",
        "import pandas as pd\n",
        "from copy import copy\n",
        "from PIL import Image\n",
        "import collections\n",
        "import matplotlib.pyplot as plt\n",
        "\n",
        "'''Код визуализации, на которой можно отобразить изображения при наведении мышки на точку.'''\n",
        "import bokeh.models as bm, bokeh.plotting as pl\n",
        "from bokeh.io import output_notebook\n",
        "from bokeh.plotting import ColumnDataSource, figure, output_file, show\n",
        "output_notebook()\n",
        "\n",
        "from sklearn.cluster import KMeans\n",
        "from sklearn.decomposition import PCA\n",
        "\n",
        "import os\n",
        "os.mkdir(\"./frames\")"
      ],
      "metadata": {
        "id": "u21oI_7gbCNi"
      },
      "execution_count": null,
      "outputs": []
    },
    {
      "cell_type": "code",
      "source": [
        "! gdown --id 1UYaJmJ7gvHj5H_60S0BUvR_gh12fnl24"
      ],
      "metadata": {
        "colab": {
          "base_uri": "https://localhost:8080/"
        },
        "id": "fwnib8fdo5fx",
        "outputId": "d4fb26ee-7cc4-46c6-c316-2c88f4cc8589"
      },
      "execution_count": null,
      "outputs": [
        {
          "output_type": "stream",
          "name": "stdout",
          "text": [
            "/usr/local/lib/python3.8/dist-packages/gdown/cli.py:127: FutureWarning: Option `--id` was deprecated in version 4.3.1 and will be removed in 5.0. You don't need to pass it anymore to use a file ID.\n",
            "  warnings.warn(\n",
            "Downloading...\n",
            "From: https://drive.google.com/uc?id=1UYaJmJ7gvHj5H_60S0BUvR_gh12fnl24\n",
            "To: /content/LaLaLand_trailer.mp4\n",
            "100% 39.4M/39.4M [00:00<00:00, 120MB/s]\n"
          ]
        }
      ]
    },
    {
      "cell_type": "markdown",
      "source": [
        "## **Шаг 2:** Итак, в нашей папке лежит трейлер к фильму \"La-La-Land\". Чтобы поработать с ним, нам надо для начала разбить его на кадры."
      ],
      "metadata": {
        "id": "nnBJosG1oUCl"
      }
    },
    {
      "cell_type": "code",
      "source": [
        "def extract_every_k_second_frame(path_to_video, path_to_folder_2_save_frames, k: int, start_frame_index=0, \n",
        "                                 num_frames_per_sec=24):\n",
        "    '''Функция отвечает за вычленение первого кадра каждой n-ной секунды (кадров т.о. становится меньше, \n",
        "    k - это номер секунды).'''\n",
        "    \n",
        "    vidcap = cv2.VideoCapture(path_to_video)\n",
        "    success,image = vidcap.read()\n",
        "    count = start_frame_index * num_frames_per_sec * k\n",
        "    while success:\n",
        "        success,image = vidcap.read()\n",
        "        if count % (num_frames_per_sec * k) == 0:\n",
        "            cv2.imwrite(path_to_folder_2_save_frames + \"/{:03d}_frame.jpg\".format(count // (num_frames_per_sec * k)), image)\n",
        "        count += 1\n",
        "    print('done')"
      ],
      "metadata": {
        "id": "3WFApARCkNCw"
      },
      "execution_count": null,
      "outputs": []
    },
    {
      "cell_type": "markdown",
      "source": [
        "### **Задание:** используя данную функцию, вычлените из мультфильма каждый 72 кадр трейлера. Сохраните кадры в папке \"frames\"."
      ],
      "metadata": {
        "id": "Wm3aRaFh1wkB"
      }
    },
    {
      "cell_type": "code",
      "source": [
        "\"\"\"Напишите ваш код здесь\"\"\"\n"
      ],
      "metadata": {
        "id": "gs4_0JWQ5aAL"
      },
      "execution_count": null,
      "outputs": []
    },
    {
      "cell_type": "markdown",
      "source": [
        "#### **Решение**:"
      ],
      "metadata": {
        "id": "wQ2TpNoh5bM8"
      }
    },
    {
      "cell_type": "code",
      "execution_count": null,
      "metadata": {
        "id": "rNi-SwPPTt8J",
        "colab": {
          "base_uri": "https://localhost:8080/"
        },
        "outputId": "2274c11b-c077-4af1-dc89-71519c0a78d9"
      },
      "outputs": [
        {
          "output_type": "stream",
          "name": "stdout",
          "text": [
            "done\n"
          ]
        }
      ],
      "source": [
        "film_path = 'LaLaLand_trailer.mp4'\n",
        "extract_every_k_second_frame(film_path,'./frames', 3)"
      ]
    },
    {
      "cell_type": "markdown",
      "source": [
        "# **Работа с цветом**"
      ],
      "metadata": {
        "id": "d1_LoM2503oA"
      }
    },
    {
      "cell_type": "markdown",
      "source": [
        "## **Шаг 3:** Теперь давайте посмотри на кадры, которые мы вытащили. Например, посмотрим кадр №5."
      ],
      "metadata": {
        "id": "Y2HaRjiO3H38"
      }
    },
    {
      "cell_type": "code",
      "source": [
        "image = cv2.imread(\"./frames/005_frame.jpg\")\n",
        "plt.imshow(image)\n",
        "print(image.shape)"
      ],
      "metadata": {
        "id": "-6WyBGuDt-zA",
        "colab": {
          "base_uri": "https://localhost:8080/",
          "height": 218
        },
        "outputId": "3166d65a-27d0-4a48-fcff-77c2dcbc4484"
      },
      "execution_count": null,
      "outputs": [
        {
          "output_type": "stream",
          "name": "stdout",
          "text": [
            "(1136, 2558, 3)\n"
          ]
        },
        {
          "output_type": "display_data",
          "data": {
            "text/plain": [
              "<Figure size 432x288 with 1 Axes>"
            ],
            "image/png": "[encoded data removed]"
          },
          "metadata": {
            "needs_background": "light"
          }
        }
      ]
    },
    {
      "cell_type": "markdown",
      "source": [
        "### **Вопрос**: за что отвечает число 3 в выдаче impage.shape?"
      ],
      "metadata": {
        "id": "8leHAJ6T6Vo3"
      }
    },
    {
      "cell_type": "markdown",
      "source": [
        " #### **Ответ**: оно обозначает, что каждый пиксель репрезентируется как комбинация 3 цветов - красного, зелёного и синего"
      ],
      "metadata": {
        "id": "gIdJijg86t__"
      }
    },
    {
      "cell_type": "markdown",
      "source": [
        "### **Вопрос**: Какая-то Эмма Стоун синюшная, так не пойдёт. Как вы думаете, почему так произошло и что надо сделать, чтобы они стали нормального цвета?"
      ],
      "metadata": {
        "id": "lhA7eHM-3bro"
      }
    },
    {
      "cell_type": "markdown",
      "source": [
        "#### **Ответ**: Это случилось, потому что по дефолту CV2 считывает показатели красного, зелёного и синего для каждого пикселя не в порядке RGB."
      ],
      "metadata": {
        "id": "ADgO6sc16CBP"
      }
    },
    {
      "cell_type": "code",
      "source": [
        "image = cv2.cvtColor(image, cv2.COLOR_BGR2RGB)\n",
        "plt.imshow(image)"
      ],
      "metadata": {
        "id": "ObfUfkCbz4PQ",
        "colab": {
          "base_uri": "https://localhost:8080/",
          "height": 218
        },
        "outputId": "c17d6003-5c98-4a7e-d63b-7fe630522f6d"
      },
      "execution_count": null,
      "outputs": [
        {
          "output_type": "execute_result",
          "data": {
            "text/plain": [
              "<matplotlib.image.AxesImage at 0x7fc218502100>"
            ]
          },
          "metadata": {},
          "execution_count": 7
        },
        {
          "output_type": "display_data",
          "data": {
            "text/plain": [
              "<Figure size 432x288 with 1 Axes>"
            ],
            "image/png": "[encoded data removed]"
          },
          "metadata": {
            "needs_background": "light"
          }
        }
      ]
    },
    {
      "cell_type": "code",
      "source": [
        "(r, g, b) = image[170, 300]\n",
        "print(\"Pixel at (170, 300) - Red: {}, Green: {}, Blue: {}\".format(r, g, b))"
      ],
      "metadata": {
        "id": "iWlma1nWC4JV",
        "colab": {
          "base_uri": "https://localhost:8080/"
        },
        "outputId": "877313c6-381a-47af-ce23-dbea001a970d"
      },
      "execution_count": null,
      "outputs": [
        {
          "output_type": "stream",
          "name": "stdout",
          "text": [
            "Pixel at (170, 300) - Red: 78, Green: 30, Blue: 20\n"
          ]
        }
      ]
    },
    {
      "cell_type": "markdown",
      "source": [
        "## **Шаг 4:** Итак, мы выяснили, как сделать так, чтобы наши картинки выглядили нормально. Ну хорошо, предположим, что мы хотим выяснить основные цвета на нашей картинке. Здесь нам понадобится метод KMeans, про который мы говорили в прошлый раз. Допустим, мы хотим узнать 5 основных цветов на картинке."
      ],
      "metadata": {
        "id": "HjGPXbBM_y0Y"
      }
    },
    {
      "cell_type": "code",
      "source": [
        "class DominantColors:\n",
        "\n",
        "    CLUSTERS = None\n",
        "    IMAGE = None\n",
        "    COLORS = None\n",
        "    LABELS = None\n",
        "    \n",
        "    def __init__(self, image, clusters=5):\n",
        "        self.CLUSTERS = clusters\n",
        "        self.IMAGE = image\n",
        "        \n",
        "    def dominantColors(self, if_return_color_weights=False):\n",
        "        '''Эта функция выдает параметры R, G, B для самых превалирующих на картинке цветов'''\n",
        "    \n",
        "        #read image\n",
        "        \n",
        "        img = cv2.imread(self.IMAGE)\n",
        "        #convert to rgb from bgr\n",
        "        img = cv2.cvtColor(img, cv2.COLOR_BGR2RGB)\n",
        "                \n",
        "        #reshaping to a list of pixels\n",
        "        img = img.reshape((img.shape[0] * img.shape[1], 3))\n",
        "        \n",
        "        #save image after operations\n",
        "        self.IMAGE = img\n",
        "        \n",
        "        #using k-means to cluster pixels\n",
        "        kmeans = KMeans(n_clusters = self.CLUSTERS)\n",
        "        kmeans.fit(img)\n",
        "        \n",
        "        #the cluster centers are our dominant colors.\n",
        "        self.COLORS = kmeans.cluster_centers_\n",
        "        \n",
        "        #save labels\n",
        "        self.LABELS = kmeans.labels_\n",
        "        \n",
        "        #returning after converting to integer from float\n",
        "        if if_return_color_weights:\n",
        "            numLabels = np.arange(0, self.CLUSTERS+1)\n",
        "            (hist, _) = np.histogram(self.LABELS, bins = numLabels)\n",
        "            hist = hist.astype(\"float\")\n",
        "            hist /= hist.sum()\n",
        "            return self.COLORS.astype(int), hist\n",
        "        else:\n",
        "            return self.COLORS.astype(int)\n",
        "\n",
        "    \n",
        "    def plotHistogram(self): \n",
        "        '''Эта функция строит гистограмму с превалирующими цветами в картинке'''\n",
        "        \n",
        "        #labels form 0 to no. of clusters\n",
        "        numLabels = np.arange(0, self.CLUSTERS+1)\n",
        "       \n",
        "        #create frequency count tables    \n",
        "        (hist, _) = np.histogram(self.LABELS, bins = numLabels)\n",
        "        hist = hist.astype(\"float\")\n",
        "        hist /= hist.sum()\n",
        "        \n",
        "        #appending frequencies to cluster centers\n",
        "        colors = self.COLORS\n",
        "        \n",
        "        #descending order sorting as per frequency count\n",
        "        colors = colors[(-hist).argsort()]\n",
        "        hist = hist[(-hist).argsort()] \n",
        "        \n",
        "        #creating empty chart\n",
        "        chart = np.zeros((50, 500, 3), np.uint8)\n",
        "        start = 0\n",
        "        \n",
        "        #creating color rectangles\n",
        "        for i in range(self.CLUSTERS):\n",
        "            end = start + hist[i] * 500\n",
        "            \n",
        "            #getting rgb values\n",
        "            r = colors[i][0]\n",
        "            g = colors[i][1]\n",
        "            b = colors[i][2]\n",
        "            \n",
        "            #using cv2.rectangle to plot colors\n",
        "            cv2.rectangle(chart, (int(start), 0), (int(end), 50), (r,g,b), -1)\n",
        "            start = end\n",
        "        \n",
        "        #display chart\n",
        "        plt.figure()\n",
        "        plt.axis(\"off\")\n",
        "        plt.imshow(chart)\n",
        "        plt.show()"
      ],
      "metadata": {
        "id": "tOFSf_FQG1ix"
      },
      "execution_count": null,
      "outputs": []
    },
    {
      "cell_type": "code",
      "source": [
        "img_path = \"./frames/005_frame.jpg\"\n",
        "clusters = 5\n",
        "dc1 = DominantColors(img_path, clusters)\n",
        "colors, weights = dc1.dominantColors(if_return_color_weights=True) #мы хотим выяснить \"вес\" каждого цвета. colors - значения превалирующих цветов, weights - вес каждого цвета (в сумме - 1)\n",
        "dc1.plotHistogram()"
      ],
      "metadata": {
        "id": "6Su9HjxhG25-",
        "colab": {
          "base_uri": "https://localhost:8080/",
          "height": 64
        },
        "outputId": "3dc64f52-ab04-466e-e778-4dc1fe0c20ba"
      },
      "execution_count": null,
      "outputs": [
        {
          "output_type": "display_data",
          "data": {
            "text/plain": [
              "<Figure size 432x288 with 1 Axes>"
            ],
            "image/png": "[encoded data removed]"
          },
          "metadata": {
            "needs_background": "light"
          }
        }
      ]
    },
    {
      "cell_type": "code",
      "source": [
        "colors.T @ weights #это средний цвет для картинки"
      ],
      "metadata": {
        "id": "a89LDGRgJBWz",
        "colab": {
          "base_uri": "https://localhost:8080/"
        },
        "outputId": "d0542462-490e-45d5-c7f9-ac165d5dad3c"
      },
      "execution_count": null,
      "outputs": [
        {
          "output_type": "execute_result",
          "data": {
            "text/plain": [
              "array([54.34717064, 21.79947954, 18.41395195])"
            ]
          },
          "metadata": {},
          "execution_count": 16
        }
      ]
    },
    {
      "cell_type": "markdown",
      "source": [
        "### **Задание**: опираясь на ранее написанный код, дописать функцию так, чтобы она доставала картинку из нашей папки \"frames\", выясняла её \"средний\" цвет, и сохраняла эти данные"
      ],
      "metadata": {
        "id": "5Qc8n72eMMhc"
      }
    },
    {
      "cell_type": "markdown",
      "source": [
        "#### **Написание функции с нуля:**"
      ],
      "metadata": {
        "id": "StohKcQ_O1MY"
      }
    },
    {
      "cell_type": "code",
      "source": [
        "'''вставьте 8 строк кода'''\n",
        "\n",
        "def make_weighted_color_image_description_array(path, clusters=5):\n",
        "  '\n",
        "  '\n",
        "  '\n",
        "  '\n",
        "  '\n",
        "  '\n",
        "  '\n",
        "  '\n",
        "  return np.vstack(data), src"
      ],
      "metadata": {
        "id": "jdqQTmgVO6bo"
      },
      "execution_count": null,
      "outputs": []
    },
    {
      "cell_type": "markdown",
      "source": [
        "#### **Написание функции с некоторыми подсказками:**"
      ],
      "metadata": {
        "id": "uWaO3J3hO7eQ"
      }
    },
    {
      "cell_type": "code",
      "source": [
        "'''вставьте 3 строки'''\n",
        "def make_weighted_color_image_description_array(path, clusters=5):\n",
        "    data = []\n",
        "    src = []\n",
        "    for file in tqdm(os.listdir(path)):\n",
        "        if file.endswith('.jpg'):\n",
        "            src.append(os.path.join(path, file))\n",
        "            '\n",
        "            '\n",
        "            '\n",
        "    return np.vstack(data), src"
      ],
      "metadata": {
        "id": "D9cMlYnsMg-O"
      },
      "execution_count": null,
      "outputs": []
    },
    {
      "cell_type": "markdown",
      "source": [
        "#### **Решение**:"
      ],
      "metadata": {
        "id": "j_OkG8iMNUcj"
      }
    },
    {
      "cell_type": "code",
      "source": [
        "def make_weighted_color_image_description_array(path, clusters=5):\n",
        "    data = []\n",
        "    src = []\n",
        "    for file in tqdm(os.listdir(path)):\n",
        "        if file.endswith('.jpg'):\n",
        "            src.append(os.path.join(path, file))\n",
        "            dc = DominantColors(os.path.join(path, file), clusters)\n",
        "            colors, weights = dc.dominantColors(if_return_color_weights=True)\n",
        "            data.append(colors.T @ weights)\n",
        "    return np.vstack(data), src"
      ],
      "metadata": {
        "id": "i4q-sILUJj9d"
      },
      "execution_count": null,
      "outputs": []
    },
    {
      "cell_type": "markdown",
      "source": [
        "## **Шаг 5**: время получить наши данные про каждую картинку. Данные - путь к картинке и средний цвет для каждой из них, состоящий из трёх показателей - R, G и B (*пропустить*)"
      ],
      "metadata": {
        "id": "t-BGUcf9zdGq"
      }
    },
    {
      "cell_type": "code",
      "source": [
        "path = \"./frames\"\n",
        "data, src = make_weighted_color_image_description_array(path, clusters=5)"
      ],
      "metadata": {
        "id": "xlfJfMx1ORJR"
      },
      "execution_count": null,
      "outputs": []
    },
    {
      "cell_type": "code",
      "source": [
        "\"\"\"Я сохранила эти данные, потому что их долго надо было качать. Вы их можете скачать с гугл-диска\"\"\"\n",
        "np.savetxt(\"data.csv\", data, delimiter=\",\")\n",
        "with open(\"src.txt\", \"w\") as file:\n",
        "  for line in src:\n",
        "    file.write(str(line) + \"\\n\")\n",
        "  file.close()"
      ],
      "metadata": {
        "id": "Q_1e10MBmVf9"
      },
      "execution_count": null,
      "outputs": []
    },
    {
      "cell_type": "markdown",
      "source": [
        "## **Шаг 6**: откроем наши данные"
      ],
      "metadata": {
        "id": "qhMx1r0oqRWK"
      }
    },
    {
      "cell_type": "code",
      "source": [
        "! gdown --id 1L7FBGF7kUgbYTslTwgvW0w2X9ACR938y\n",
        "! gdown --id 1lpDXZndGkMS_a4gLb-zYt-XzE-1OKHVi"
      ],
      "metadata": {
        "id": "YeV8m0sQz24D",
        "colab": {
          "base_uri": "https://localhost:8080/"
        },
        "outputId": "cfd7e0ee-3403-4364-d366-d03b1b98f96d"
      },
      "execution_count": null,
      "outputs": [
        {
          "output_type": "stream",
          "name": "stdout",
          "text": [
            "/usr/local/lib/python3.8/dist-packages/gdown/cli.py:127: FutureWarning: Option `--id` was deprecated in version 4.3.1 and will be removed in 5.0. You don't need to pass it anymore to use a file ID.\n",
            "  warnings.warn(\n",
            "Downloading...\n",
            "From: https://drive.google.com/uc?id=1L7FBGF7kUgbYTslTwgvW0w2X9ACR938y\n",
            "To: /content/src.txt\n",
            "100% 1.63k/1.63k [00:00<00:00, 2.77MB/s]\n",
            "/usr/local/lib/python3.8/dist-packages/gdown/cli.py:127: FutureWarning: Option `--id` was deprecated in version 4.3.1 and will be removed in 5.0. You don't need to pass it anymore to use a file ID.\n",
            "  warnings.warn(\n",
            "Downloading...\n",
            "From: https://drive.google.com/uc?id=1lpDXZndGkMS_a4gLb-zYt-XzE-1OKHVi\n",
            "To: /content/data.csv\n",
            "100% 5.33k/5.33k [00:00<00:00, 8.05MB/s]\n"
          ]
        }
      ]
    },
    {
      "cell_type": "markdown",
      "source": [
        "### **Задание**: выясните, как открыть .csv и получить из него numpy.array. Кроме того, откройте .txt и сохраните его как список. Свои переменные назовите my_data и my_src соответственно."
      ],
      "metadata": {
        "id": "87wBGMqLsbrR"
      }
    },
    {
      "cell_type": "code",
      "source": [
        "\"\"\"Напишите ваш код здесь\"\"\"\n"
      ],
      "metadata": {
        "id": "LU1qePcRszRw"
      },
      "execution_count": null,
      "outputs": []
    },
    {
      "cell_type": "markdown",
      "source": [
        "#### **Решение**:"
      ],
      "metadata": {
        "id": "T5RGdfrEs8Fo"
      }
    },
    {
      "cell_type": "code",
      "source": [
        "df = pd.read_csv('data.csv', sep=',', header=None)\n",
        "my_data = df.values\n",
        "\n",
        "with open(\"src.txt\") as file:\n",
        "  my_src = file.readlines()\n",
        "  file.close()\n",
        "\n",
        "my_src = [line.strip(\"\\n\") for line in my_src]"
      ],
      "metadata": {
        "id": "jq9Lc8eEoScG"
      },
      "execution_count": null,
      "outputs": []
    },
    {
      "cell_type": "markdown",
      "source": [
        "## **Шаг 7**: уменьшим размерность наших данных с помощью PCA и визуализируем цветовое распределение на графике."
      ],
      "metadata": {
        "id": "jitfwkqjtDAD"
      }
    },
    {
      "cell_type": "code",
      "source": [
        "'''Поскольку мы хотим изобразить это на 2-мерном графике, а данные у нас трёхмерные, нам надо уменьшить размерность. Для этого мы используем PCA.'''\n",
        "pca_mean_colors = PCA(2).fit_transform(my_data)\n",
        "pca_mean_colors[:, 1] = - pca_mean_colors[:, 1] "
      ],
      "metadata": {
        "id": "9J5zpyKPPkqF"
      },
      "execution_count": null,
      "outputs": []
    },
    {
      "cell_type": "code",
      "source": [
        "def visualize_color_distribution(pca_mean_colors_film_list, src_list, each_n_frame=1,\n",
        "                                       colors=['#ff0000', \n",
        "                                               '#0000ff',\n",
        "                                               'royalblue',\n",
        "                                               'black',\n",
        "                                               'pink',\n",
        "                                               'sandybrown']):\n",
        "    \n",
        "    sources = [\n",
        "        ColumnDataSource(data=dict(\n",
        "            x= pca_mean_colors[:,0][::each_n_frame], #берем у всех картинок первый показатель pca из двух\n",
        "            y= pca_mean_colors[:, 1][::each_n_frame],#берем у всех картинок второй показатель pca из двух\n",
        "            desc=list(range(len(relative_source)))[::each_n_frame],#это описание картинки на графике\n",
        "            imgs= relative_source[::each_n_frame],#это путь к картинке\n",
        "            fonts = ['<i>trailer</i>'] * len(relative_source[::each_n_frame]))\n",
        "        )\n",
        "        for pca_mean_colors, relative_source in zip(pca_mean_colors_film_list, src_list)]\n",
        "\n",
        "\n",
        "\n",
        "    TOOLTIPS = \"\"\"\n",
        "        <div>\n",
        "            <div>\n",
        "                <img\n",
        "                    src=\"@imgs\" height=\"187\" alt=\"@imgs\" width=333\"\"\n",
        "                    style=\"float: left; margin: 0px 15px 15px 0px;\"\n",
        "                    border=\"2\"\n",
        "                ></img>\n",
        "            </div>\n",
        "            <div>\n",
        "                <span style=\"font-size: 17px; font-weight: bold;\">@desc</span>\n",
        "                <span style=\"font-size: 15px; color: #966; alpha: 0.25\">[$index]</span>\n",
        "            </div>\n",
        "            <div>\n",
        "                <span>@fonts{safe}</span>\n",
        "            </div>\n",
        "            <div>\n",
        "                <span style=\"font-size: 15px;\">Location</span>\n",
        "                <span style=\"font-size: 10px; color: #696;  alpha: 0.25\">($x, $y)</span>\n",
        "            </div>\n",
        "        </div>\n",
        "    \"\"\"\n",
        "\n",
        "    p = figure(plot_width=1000, plot_height=500, tooltips=TOOLTIPS,\n",
        "               title=\"Распределение цвета в 'La-La-Land'\")\n",
        "\n",
        "    # p.circle('x', 'y', size=15, alpha=0.25, color='#62b696', source=source_2012)\n",
        "    for source, color in zip(sources, colors):\n",
        "        p.circle('x', 'y', size=15, alpha=0.25, color=color, source=source)\n",
        "\n",
        "    show(p)"
      ],
      "metadata": {
        "id": "4FjFKpIeTU-0"
      },
      "execution_count": null,
      "outputs": []
    },
    {
      "cell_type": "markdown",
      "source": [
        "### **ВАЖНО: сейчас на этом графике не отобразятся картинки. Почему - для меня загадка, поскольку абсолютно идентичный код в Jupyter работает прекрасно.**"
      ],
      "metadata": {
        "id": "9Dc646PeyjmW"
      }
    },
    {
      "cell_type": "code",
      "source": [
        "visualize_color_distribution([pca_mean_colors], [my_src])"
      ],
      "metadata": {
        "id": "64BVGtjrTa5b",
        "colab": {
          "base_uri": "https://localhost:8080/",
          "height": 517
        },
        "outputId": "5d16628c-9ca4-4855-d293-e9e340b350e1"
      },
      "execution_count": null,
      "outputs": [
        {
          "output_type": "display_data",
          "data": {
            "application/javascript": [
              "\n",
              "(function(root) {\n",
              "  function now() {\n",
              "    return new Date();\n",
              "  }\n",
              "\n",
              "  var force = true;\n",
              "\n",
              "  if (typeof root._bokeh_onload_callbacks === \"undefined\" || force === true) {\n",
              "    root._bokeh_onload_callbacks = [];\n",
              "    root._bokeh_is_loading = undefined;\n",
              "  }\n",
              "\n",
              "  var JS_MIME_TYPE = 'application/javascript';\n",
              "  var HTML_MIME_TYPE = 'text/html';\n",
              "  var EXEC_MIME_TYPE = 'application/vnd.bokehjs_exec.v0+json';\n",
              "  var CLASS_NAME = 'output_bokeh rendered_html';\n",
              "\n",
              "  /**\n",
              "   * Render data to the DOM node\n",
              "   */\n",
              "  function render(props, node) {\n",
              "    var script = document.createElement(\"script\");\n",
              "    node.appendChild(script);\n",
              "  }\n",
              "\n",
              "  /**\n",
              "   * Handle when an output is cleared or removed\n",
              "   */\n",
              "  function handleClearOutput(event, handle) {\n",
              "    var cell = handle.cell;\n",
              "\n",
              "    var id = cell.output_area._bokeh_element_id;\n",
              "    var server_id = cell.output_area._bokeh_server_id;\n",
              "    // Clean up Bokeh references\n",
              "    if (id != null && id in Bokeh.index) {\n",
              "      Bokeh.index[id].model.document.clear();\n",
              "      delete Bokeh.index[id];\n",
              "    }\n",
              "\n",
              "    if (server_id !== undefined) {\n",
              "      // Clean up Bokeh references\n",
              "      var cmd = \"from bokeh.io.state import curstate; print(curstate().uuid_to_server['\" + server_id + \"'].get_sessions()[0].document.roots[0]._id)\";\n",
              "      cell.notebook.kernel.execute(cmd, {\n",
              "        iopub: {\n",
              "          output: function(msg) {\n",
              "            var id = msg.content.text.trim();\n",
              "            if (id in Bokeh.index) {\n",
              "              Bokeh.index[id].model.document.clear();\n",
              "              delete Bokeh.index[id];\n",
              "            }\n",
              "          }\n",
              "        }\n",
              "      });\n",
              "      // Destroy server and session\n",
              "      var cmd = \"import bokeh.io.notebook as ion; ion.destroy_server('\" + server_id + \"')\";\n",
              "      cell.notebook.kernel.execute(cmd);\n",
              "    }\n",
              "  }\n",
              "\n",
              "  /**\n",
              "   * Handle when a new output is added\n",
              "   */\n",
              "  function handleAddOutput(event, handle) {\n",
              "    var output_area = handle.output_area;\n",
              "    var output = handle.output;\n",
              "\n",
              "    // limit handleAddOutput to display_data with EXEC_MIME_TYPE content only\n",
              "    if ((output.output_type != \"display_data\") || (!Object.prototype.hasOwnProperty.call(output.data, EXEC_MIME_TYPE))) {\n",
              "      return\n",
              "    }\n",
              "\n",
              "    var toinsert = output_area.element.find(\".\" + CLASS_NAME.split(' ')[0]);\n",
              "\n",
              "    if (output.metadata[EXEC_MIME_TYPE][\"id\"] !== undefined) {\n",
              "      toinsert[toinsert.length - 1].firstChild.textContent = output.data[JS_MIME_TYPE];\n",
              "      // store reference to embed id on output_area\n",
              "      output_area._bokeh_element_id = output.metadata[EXEC_MIME_TYPE][\"id\"];\n",
              "    }\n",
              "    if (output.metadata[EXEC_MIME_TYPE][\"server_id\"] !== undefined) {\n",
              "      var bk_div = document.createElement(\"div\");\n",
              "      bk_div.innerHTML = output.data[HTML_MIME_TYPE];\n",
              "      var script_attrs = bk_div.children[0].attributes;\n",
              "      for (var i = 0; i < script_attrs.length; i++) {\n",
              "        toinsert[toinsert.length - 1].firstChild.setAttribute(script_attrs[i].name, script_attrs[i].value);\n",
              "        toinsert[toinsert.length - 1].firstChild.textContent = bk_div.children[0].textContent\n",
              "      }\n",
              "      // store reference to server id on output_area\n",
              "      output_area._bokeh_server_id = output.metadata[EXEC_MIME_TYPE][\"server_id\"];\n",
              "    }\n",
              "  }\n",
              "\n",
              "  function register_renderer(events, OutputArea) {\n",
              "\n",
              "    function append_mime(data, metadata, element) {\n",
              "      // create a DOM node to render to\n",
              "      var toinsert = this.create_output_subarea(\n",
              "        metadata,\n",
              "        CLASS_NAME,\n",
              "        EXEC_MIME_TYPE\n",
              "      );\n",
              "      this.keyboard_manager.register_events(toinsert);\n",
              "      // Render to node\n",
              "      var props = {data: data, metadata: metadata[EXEC_MIME_TYPE]};\n",
              "      render(props, toinsert[toinsert.length - 1]);\n",
              "      element.append(toinsert);\n",
              "      return toinsert\n",
              "    }\n",
              "\n",
              "    /* Handle when an output is cleared or removed */\n",
              "    events.on('clear_output.CodeCell', handleClearOutput);\n",
              "    events.on('delete.Cell', handleClearOutput);\n",
              "\n",
              "    /* Handle when a new output is added */\n",
              "    events.on('output_added.OutputArea', handleAddOutput);\n",
              "\n",
              "    /**\n",
              "     * Register the mime type and append_mime function with output_area\n",
              "     */\n",
              "    OutputArea.prototype.register_mime_type(EXEC_MIME_TYPE, append_mime, {\n",
              "      /* Is output safe? */\n",
              "      safe: true,\n",
              "      /* Index of renderer in `output_area.display_order` */\n",
              "      index: 0\n",
              "    });\n",
              "  }\n",
              "\n",
              "  // register the mime type if in Jupyter Notebook environment and previously unregistered\n",
              "  if (root.Jupyter !== undefined) {\n",
              "    var events = require('base/js/events');\n",
              "    var OutputArea = require('notebook/js/outputarea').OutputArea;\n",
              "\n",
              "    if (OutputArea.prototype.mime_types().indexOf(EXEC_MIME_TYPE) == -1) {\n",
              "      register_renderer(events, OutputArea);\n",
              "    }\n",
              "  }\n",
              "\n",
              "  \n",
              "  if (typeof (root._bokeh_timeout) === \"undefined\" || force === true) {\n",
              "    root._bokeh_timeout = Date.now() + 5000;\n",
              "    root._bokeh_failed_load = false;\n",
              "  }\n",
              "\n",
              "  var NB_LOAD_WARNING = {'data': {'text/html':\n",
              "     \"<div style='background-color: #fdd'>\\n\"+\n",
              "     \"<p>\\n\"+\n",
              "     \"BokehJS does not appear to have successfully loaded. If loading BokehJS from CDN, this \\n\"+\n",
              "     \"may be due to a slow or bad network connection. Possible fixes:\\n\"+\n",
              "     \"</p>\\n\"+\n",
              "     \"<ul>\\n\"+\n",
              "     \"<li>re-rerun `output_notebook()` to attempt to load from CDN again, or</li>\\n\"+\n",
              "     \"<li>use INLINE resources instead, as so:</li>\\n\"+\n",
              "     \"</ul>\\n\"+\n",
              "     \"<code>\\n\"+\n",
              "     \"from bokeh.resources import INLINE\\n\"+\n",
              "     \"output_notebook(resources=INLINE)\\n\"+\n",
              "     \"</code>\\n\"+\n",
              "     \"</div>\"}};\n",
              "\n",
              "  function display_loaded() {\n",
              "    var el = document.getElementById(null);\n",
              "    if (el != null) {\n",
              "      el.textContent = \"BokehJS is loading...\";\n",
              "    }\n",
              "    if (root.Bokeh !== undefined) {\n",
              "      if (el != null) {\n",
              "        el.textContent = \"BokehJS \" + root.Bokeh.version + \" successfully loaded.\";\n",
              "      }\n",
              "    } else if (Date.now() < root._bokeh_timeout) {\n",
              "      setTimeout(display_loaded, 100)\n",
              "    }\n",
              "  }\n",
              "\n",
              "\n",
              "  function run_callbacks() {\n",
              "    try {\n",
              "      root._bokeh_onload_callbacks.forEach(function(callback) {\n",
              "        if (callback != null)\n",
              "          callback();\n",
              "      });\n",
              "    } finally {\n",
              "      delete root._bokeh_onload_callbacks\n",
              "    }\n",
              "    console.debug(\"Bokeh: all callbacks have finished\");\n",
              "  }\n",
              "\n",
              "  function load_libs(css_urls, js_urls, callback) {\n",
              "    if (css_urls == null) css_urls = [];\n",
              "    if (js_urls == null) js_urls = [];\n",
              "\n",
              "    root._bokeh_onload_callbacks.push(callback);\n",
              "    if (root._bokeh_is_loading > 0) {\n",
              "      console.debug(\"Bokeh: BokehJS is being loaded, scheduling callback at\", now());\n",
              "      return null;\n",
              "    }\n",
              "    if (js_urls == null || js_urls.length === 0) {\n",
              "      run_callbacks();\n",
              "      return null;\n",
              "    }\n",
              "    console.debug(\"Bokeh: BokehJS not loaded, scheduling load and callback at\", now());\n",
              "    root._bokeh_is_loading = css_urls.length + js_urls.length;\n",
              "\n",
              "    function on_load() {\n",
              "      root._bokeh_is_loading--;\n",
              "      if (root._bokeh_is_loading === 0) {\n",
              "        console.debug(\"Bokeh: all BokehJS libraries/stylesheets loaded\");\n",
              "        run_callbacks()\n",
              "      }\n",
              "    }\n",
              "\n",
              "    function on_error(url) {\n",
              "      console.error(\"failed to load \" + url);\n",
              "    }\n",
              "\n",
              "    for (let i = 0; i < css_urls.length; i++) {\n",
              "      const url = css_urls[i];\n",
              "      const element = document.createElement(\"link\");\n",
              "      element.onload = on_load;\n",
              "      element.onerror = on_error.bind(null, url);\n",
              "      element.rel = \"stylesheet\";\n",
              "      element.type = \"text/css\";\n",
              "      element.href = url;\n",
              "      console.debug(\"Bokeh: injecting link tag for BokehJS stylesheet: \", url);\n",
              "      document.body.appendChild(element);\n",
              "    }\n",
              "\n",
              "    const hashes = {\"https://cdn.bokeh.org/bokeh/release/bokeh-2.3.3.min.js\": \"dM3QQsP+wXdHg42wTqW85BjZQdLNNIXqlPw/BgKoExPmTG7ZLML4EGqLMfqHT6ON\", \"https://cdn.bokeh.org/bokeh/release/bokeh-tables-2.3.3.min.js\": \"8x57I4YuIfu8XyZfFo0XVr2WAT8EK4rh/uDe3wF7YuW2FNUSNEpJbsPaB1nJ2fz2\", \"https://cdn.bokeh.org/bokeh/release/bokeh-widgets-2.3.3.min.js\": \"3QTqdz9LyAm2i0sG5XTePsHec3UHWwVsrOL68SYRoAXsafvfAyqtQ+h440+qIBhS\"};\n",
              "\n",
              "    for (let i = 0; i < js_urls.length; i++) {\n",
              "      const url = js_urls[i];\n",
              "      const element = document.createElement('script');\n",
              "      element.onload = on_load;\n",
              "      element.onerror = on_error.bind(null, url);\n",
              "      element.async = false;\n",
              "      element.src = url;\n",
              "      if (url in hashes) {\n",
              "        element.crossOrigin = \"anonymous\";\n",
              "        element.integrity = \"sha384-\" + hashes[url];\n",
              "      }\n",
              "      console.debug(\"Bokeh: injecting script tag for BokehJS library: \", url);\n",
              "      document.head.appendChild(element);\n",
              "    }\n",
              "  };\n",
              "\n",
              "  function inject_raw_css(css) {\n",
              "    const element = document.createElement(\"style\");\n",
              "    element.appendChild(document.createTextNode(css));\n",
              "    document.body.appendChild(element);\n",
              "  }\n",
              "\n",
              "  \n",
              "  var js_urls = [\"https://cdn.bokeh.org/bokeh/release/bokeh-2.3.3.min.js\", \"https://cdn.bokeh.org/bokeh/release/bokeh-widgets-2.3.3.min.js\", \"https://cdn.bokeh.org/bokeh/release/bokeh-tables-2.3.3.min.js\"];\n",
              "  var css_urls = [];\n",
              "  \n",
              "\n",
              "  var inline_js = [\n",
              "    function(Bokeh) {\n",
              "      Bokeh.set_log_level(\"info\");\n",
              "    },\n",
              "    function(Bokeh) {\n",
              "    \n",
              "    \n",
              "    }\n",
              "  ];\n",
              "\n",
              "  function run_inline_js() {\n",
              "    \n",
              "    if (root.Bokeh !== undefined || force === true) {\n",
              "      \n",
              "    for (var i = 0; i < inline_js.length; i++) {\n",
              "      inline_js[i].call(root, root.Bokeh);\n",
              "    }\n",
              "    } else if (Date.now() < root._bokeh_timeout) {\n",
              "      setTimeout(run_inline_js, 100);\n",
              "    } else if (!root._bokeh_failed_load) {\n",
              "      console.log(\"Bokeh: BokehJS failed to load within specified timeout.\");\n",
              "      root._bokeh_failed_load = true;\n",
              "    } else if (force !== true) {\n",
              "      var cell = $(document.getElementById(null)).parents('.cell').data().cell;\n",
              "      cell.output_area.append_execute_result(NB_LOAD_WARNING)\n",
              "    }\n",
              "\n",
              "  }\n",
              "\n",
              "  if (root._bokeh_is_loading === 0) {\n",
              "    console.debug(\"Bokeh: BokehJS loaded, going straight to plotting\");\n",
              "    run_inline_js();\n",
              "  } else {\n",
              "    load_libs(css_urls, js_urls, function() {\n",
              "      console.debug(\"Bokeh: BokehJS plotting callback run at\", now());\n",
              "      run_inline_js();\n",
              "    });\n",
              "  }\n",
              "}(window));"
            ],
            "application/vnd.bokehjs_load.v0+json": "\n(function(root) {\n  function now() {\n    return new Date();\n  }\n\n  var force = true;\n\n  if (typeof root._bokeh_onload_callbacks === \"undefined\" || force === true) {\n    root._bokeh_onload_callbacks = [];\n    root._bokeh_is_loading = undefined;\n  }\n\n  \n\n  \n  if (typeof (root._bokeh_timeout) === \"undefined\" || force === true) {\n    root._bokeh_timeout = Date.now() + 5000;\n    root._bokeh_failed_load = false;\n  }\n\n  var NB_LOAD_WARNING = {'data': {'text/html':\n     \"<div style='background-color: #fdd'>\\n\"+\n     \"<p>\\n\"+\n     \"BokehJS does not appear to have successfully loaded. If loading BokehJS from CDN, this \\n\"+\n     \"may be due to a slow or bad network connection. Possible fixes:\\n\"+\n     \"</p>\\n\"+\n     \"<ul>\\n\"+\n     \"<li>re-rerun `output_notebook()` to attempt to load from CDN again, or</li>\\n\"+\n     \"<li>use INLINE resources instead, as so:</li>\\n\"+\n     \"</ul>\\n\"+\n     \"<code>\\n\"+\n     \"from bokeh.resources import INLINE\\n\"+\n     \"output_notebook(resources=INLINE)\\n\"+\n     \"</code>\\n\"+\n     \"</div>\"}};\n\n  function display_loaded() {\n    var el = document.getElementById(null);\n    if (el != null) {\n      el.textContent = \"BokehJS is loading...\";\n    }\n    if (root.Bokeh !== undefined) {\n      if (el != null) {\n        el.textContent = \"BokehJS \" + root.Bokeh.version + \" successfully loaded.\";\n      }\n    } else if (Date.now() < root._bokeh_timeout) {\n      setTimeout(display_loaded, 100)\n    }\n  }\n\n\n  function run_callbacks() {\n    try {\n      root._bokeh_onload_callbacks.forEach(function(callback) {\n        if (callback != null)\n          callback();\n      });\n    } finally {\n      delete root._bokeh_onload_callbacks\n    }\n    console.debug(\"Bokeh: all callbacks have finished\");\n  }\n\n  function load_libs(css_urls, js_urls, callback) {\n    if (css_urls == null) css_urls = [];\n    if (js_urls == null) js_urls = [];\n\n    root._bokeh_onload_callbacks.push(callback);\n    if (root._bokeh_is_loading > 0) {\n      console.debug(\"Bokeh: BokehJS is being loaded, scheduling callback at\", now());\n      return null;\n    }\n    if (js_urls == null || js_urls.length === 0) {\n      run_callbacks();\n      return null;\n    }\n    console.debug(\"Bokeh: BokehJS not loaded, scheduling load and callback at\", now());\n    root._bokeh_is_loading = css_urls.length + js_urls.length;\n\n    function on_load() {\n      root._bokeh_is_loading--;\n      if (root._bokeh_is_loading === 0) {\n        console.debug(\"Bokeh: all BokehJS libraries/stylesheets loaded\");\n        run_callbacks()\n      }\n    }\n\n    function on_error(url) {\n      console.error(\"failed to load \" + url);\n    }\n\n    for (let i = 0; i < css_urls.length; i++) {\n      const url = css_urls[i];\n      const element = document.createElement(\"link\");\n      element.onload = on_load;\n      element.onerror = on_error.bind(null, url);\n      element.rel = \"stylesheet\";\n      element.type = \"text/css\";\n      element.href = url;\n      console.debug(\"Bokeh: injecting link tag for BokehJS stylesheet: \", url);\n      document.body.appendChild(element);\n    }\n\n    const hashes = {\"https://cdn.bokeh.org/bokeh/release/bokeh-2.3.3.min.js\": \"dM3QQsP+wXdHg42wTqW85BjZQdLNNIXqlPw/BgKoExPmTG7ZLML4EGqLMfqHT6ON\", \"https://cdn.bokeh.org/bokeh/release/bokeh-tables-2.3.3.min.js\": \"8x57I4YuIfu8XyZfFo0XVr2WAT8EK4rh/uDe3wF7YuW2FNUSNEpJbsPaB1nJ2fz2\", \"https://cdn.bokeh.org/bokeh/release/bokeh-widgets-2.3.3.min.js\": \"3QTqdz9LyAm2i0sG5XTePsHec3UHWwVsrOL68SYRoAXsafvfAyqtQ+h440+qIBhS\"};\n\n    for (let i = 0; i < js_urls.length; i++) {\n      const url = js_urls[i];\n      const element = document.createElement('script');\n      element.onload = on_load;\n      element.onerror = on_error.bind(null, url);\n      element.async = false;\n      element.src = url;\n      if (url in hashes) {\n        element.crossOrigin = \"anonymous\";\n        element.integrity = \"sha384-\" + hashes[url];\n      }\n      console.debug(\"Bokeh: injecting script tag for BokehJS library: \", url);\n      document.head.appendChild(element);\n    }\n  };\n\n  function inject_raw_css(css) {\n    const element = document.createElement(\"style\");\n    element.appendChild(document.createTextNode(css));\n    document.body.appendChild(element);\n  }\n\n  \n  var js_urls = [\"https://cdn.bokeh.org/bokeh/release/bokeh-2.3.3.min.js\", \"https://cdn.bokeh.org/bokeh/release/bokeh-widgets-2.3.3.min.js\", \"https://cdn.bokeh.org/bokeh/release/bokeh-tables-2.3.3.min.js\"];\n  var css_urls = [];\n  \n\n  var inline_js = [\n    function(Bokeh) {\n      Bokeh.set_log_level(\"info\");\n    },\n    function(Bokeh) {\n    \n    \n    }\n  ];\n\n  function run_inline_js() {\n    \n    if (root.Bokeh !== undefined || force === true) {\n      \n    for (var i = 0; i < inline_js.length; i++) {\n      inline_js[i].call(root, root.Bokeh);\n    }\n    } else if (Date.now() < root._bokeh_timeout) {\n      setTimeout(run_inline_js, 100);\n    } else if (!root._bokeh_failed_load) {\n      console.log(\"Bokeh: BokehJS failed to load within specified timeout.\");\n      root._bokeh_failed_load = true;\n    } else if (force !== true) {\n      var cell = $(document.getElementById(null)).parents('.cell').data().cell;\n      cell.output_area.append_execute_result(NB_LOAD_WARNING)\n    }\n\n  }\n\n  if (root._bokeh_is_loading === 0) {\n    console.debug(\"Bokeh: BokehJS loaded, going straight to plotting\");\n    run_inline_js();\n  } else {\n    load_libs(css_urls, js_urls, function() {\n      console.debug(\"Bokeh: BokehJS plotting callback run at\", now());\n      run_inline_js();\n    });\n  }\n}(window));"
          },
          "metadata": {}
        },
        {
          "output_type": "display_data",
          "data": {
            "text/html": [
              "\n",
              "\n",
              "\n",
              "\n",
              "\n",
              "\n",
              "  <div class=\"bk-root\" id=\"ec9eda63-e7bb-4b68-a30c-0ec0493e4b7f\" data-root-id=\"1003\"></div>\n"
            ]
          },
          "metadata": {}
        },
        {
          "output_type": "display_data",
          "data": {
            "application/javascript": [
              "(function(root) {\n",
              "  function embed_document(root) {\n",
              "    \n",
              "  var docs_json = {\"471a5843-8564-419f-8de9-8a20ba35a0b6\":{\"defs\":[],\"roots\":{\"references\":[{\"attributes\":{\"below\":[{\"id\":\"1014\"}],\"center\":[{\"id\":\"1017\"},{\"id\":\"1021\"}],\"height\":500,\"left\":[{\"id\":\"1018\"}],\"renderers\":[{\"id\":\"1041\"}],\"title\":{\"id\":\"1004\"},\"toolbar\":{\"id\":\"1030\"},\"width\":1000,\"x_range\":{\"id\":\"1006\"},\"x_scale\":{\"id\":\"1010\"},\"y_range\":{\"id\":\"1008\"},\"y_scale\":{\"id\":\"1012\"}},\"id\":\"1003\",\"subtype\":\"Figure\",\"type\":\"Plot\"},{\"attributes\":{\"bottom_units\":\"screen\",\"fill_alpha\":0.5,\"fill_color\":\"lightgrey\",\"left_units\":\"screen\",\"level\":\"overlay\",\"line_alpha\":1.0,\"line_color\":\"black\",\"line_dash\":[4,4],\"line_width\":2,\"right_units\":\"screen\",\"syncable\":false,\"top_units\":\"screen\"},\"id\":\"1028\",\"type\":\"BoxAnnotation\"},{\"attributes\":{},\"id\":\"1026\",\"type\":\"ResetTool\"},{\"attributes\":{\"axis\":{\"id\":\"1018\"},\"dimension\":1,\"ticker\":null},\"id\":\"1021\",\"type\":\"Grid\"},{\"attributes\":{},\"id\":\"1048\",\"type\":\"AllLabels\"},{\"attributes\":{\"active_multi\":null,\"tools\":[{\"id\":\"1022\"},{\"id\":\"1023\"},{\"id\":\"1024\"},{\"id\":\"1025\"},{\"id\":\"1026\"},{\"id\":\"1027\"},{\"id\":\"1029\"}]},\"id\":\"1030\",\"type\":\"Toolbar\"},{\"attributes\":{},\"id\":\"1027\",\"type\":\"HelpTool\"},{\"attributes\":{\"formatter\":{\"id\":\"1047\"},\"major_label_policy\":{\"id\":\"1048\"},\"ticker\":{\"id\":\"1015\"}},\"id\":\"1014\",\"type\":\"LinearAxis\"},{\"attributes\":{\"text\":\"\\u0420\\u0430\\u0441\\u043f\\u0440\\u0435\\u0434\\u0435\\u043b\\u0435\\u043d\\u0438\\u0435 \\u0446\\u0432\\u0435\\u0442\\u0430 \\u0432 'La-La-Land'\"},\"id\":\"1004\",\"type\":\"Title\"},{\"attributes\":{\"callback\":null,\"tooltips\":\"\\n        <div>\\n            <div>\\n                <img\\n                    src=\\\"@imgs\\\" height=\\\"187\\\" alt=\\\"@imgs\\\" width=333\\\"\\\"\\n                    style=\\\"float: left; margin: 0px 15px 15px 0px;\\\"\\n                    border=\\\"2\\\"\\n                ></img>\\n            </div>\\n            <div>\\n                <span style=\\\"font-size: 17px; font-weight: bold;\\\">@desc</span>\\n                <span style=\\\"font-size: 15px; color: #966; alpha: 0.25\\\">[$index]</span>\\n            </div>\\n            <div>\\n                <span>@fonts{safe}</span>\\n            </div>\\n            <div>\\n                <span style=\\\"font-size: 15px;\\\">Location</span>\\n                <span style=\\\"font-size: 10px; color: #696;  alpha: 0.25\\\">($x, $y)</span>\\n            </div>\\n        </div>\\n    \"},\"id\":\"1029\",\"type\":\"HoverTool\"},{\"attributes\":{\"fill_alpha\":{\"value\":0.25},\"fill_color\":{\"value\":\"#ff0000\"},\"line_alpha\":{\"value\":0.25},\"line_color\":{\"value\":\"#ff0000\"},\"size\":{\"value\":15},\"x\":{\"field\":\"x\"},\"y\":{\"field\":\"y\"}},\"id\":\"1039\",\"type\":\"Circle\"},{\"attributes\":{\"overlay\":{\"id\":\"1028\"}},\"id\":\"1024\",\"type\":\"BoxZoomTool\"},{\"attributes\":{},\"id\":\"1025\",\"type\":\"SaveTool\"},{\"attributes\":{\"formatter\":{\"id\":\"1044\"},\"major_label_policy\":{\"id\":\"1045\"},\"ticker\":{\"id\":\"1019\"}},\"id\":\"1018\",\"type\":\"LinearAxis\"},{\"attributes\":{},\"id\":\"1015\",\"type\":\"BasicTicker\"},{\"attributes\":{},\"id\":\"1052\",\"type\":\"Selection\"},{\"attributes\":{},\"id\":\"1044\",\"type\":\"BasicTickFormatter\"},{\"attributes\":{\"data\":{\"desc\":[0,1,2,3,4,5,6,7,8,9,10,11,12,13,14,15,16,17,18,19,20,21,22,23,24,25,26,27,28,29,30,31,32,33,34,35,36,37,38,39,40,41,42,43,44,45,46,47,48,49,50,51,52,53,54,55,56,57,58,59,60,61,62,63,64,65,66,67,68,69,70],\"fonts\":[\"<i>trailer</i>\",\"<i>trailer</i>\",\"<i>trailer</i>\",\"<i>trailer</i>\",\"<i>trailer</i>\",\"<i>trailer</i>\",\"<i>trailer</i>\",\"<i>trailer</i>\",\"<i>trailer</i>\",\"<i>trailer</i>\",\"<i>trailer</i>\",\"<i>trailer</i>\",\"<i>trailer</i>\",\"<i>trailer</i>\",\"<i>trailer</i>\",\"<i>trailer</i>\",\"<i>trailer</i>\",\"<i>trailer</i>\",\"<i>trailer</i>\",\"<i>trailer</i>\",\"<i>trailer</i>\",\"<i>trailer</i>\",\"<i>trailer</i>\",\"<i>trailer</i>\",\"<i>trailer</i>\",\"<i>trailer</i>\",\"<i>trailer</i>\",\"<i>trailer</i>\",\"<i>trailer</i>\",\"<i>trailer</i>\",\"<i>trailer</i>\",\"<i>trailer</i>\",\"<i>trailer</i>\",\"<i>trailer</i>\",\"<i>trailer</i>\",\"<i>trailer</i>\",\"<i>trailer</i>\",\"<i>trailer</i>\",\"<i>trailer</i>\",\"<i>trailer</i>\",\"<i>trailer</i>\",\"<i>trailer</i>\",\"<i>trailer</i>\",\"<i>trailer</i>\",\"<i>trailer</i>\",\"<i>trailer</i>\",\"<i>trailer</i>\",\"<i>trailer</i>\",\"<i>trailer</i>\",\"<i>trailer</i>\",\"<i>trailer</i>\",\"<i>trailer</i>\",\"<i>trailer</i>\",\"<i>trailer</i>\",\"<i>trailer</i>\",\"<i>trailer</i>\",\"<i>trailer</i>\",\"<i>trailer</i>\",\"<i>trailer</i>\",\"<i>trailer</i>\",\"<i>trailer</i>\",\"<i>trailer</i>\",\"<i>trailer</i>\",\"<i>trailer</i>\",\"<i>trailer</i>\",\"<i>trailer</i>\",\"<i>trailer</i>\",\"<i>trailer</i>\",\"<i>trailer</i>\",\"<i>trailer</i>\",\"<i>trailer</i>\"],\"imgs\":[\"./frames/000_frame.jpg\",\"./frames/024_frame.jpg\",\"./frames/060_frame.jpg\",\"./frames/026_frame.jpg\",\"./frames/062_frame.jpg\",\"./frames/030_frame.jpg\",\"./frames/025_frame.jpg\",\"./frames/056_frame.jpg\",\"./frames/049_frame.jpg\",\"./frames/008_frame.jpg\",\"./frames/021_frame.jpg\",\"./frames/051_frame.jpg\",\"./frames/063_frame.jpg\",\"./frames/013_frame.jpg\",\"./frames/038_frame.jpg\",\"./frames/016_frame.jpg\",\"./frames/028_frame.jpg\",\"./frames/066_frame.jpg\",\"./frames/039_frame.jpg\",\"./frames/011_frame.jpg\",\"./frames/044_frame.jpg\",\"./frames/015_frame.jpg\",\"./frames/029_frame.jpg\",\"./frames/003_frame.jpg\",\"./frames/012_frame.jpg\",\"./frames/031_frame.jpg\",\"./frames/017_frame.jpg\",\"./frames/068_frame.jpg\",\"./frames/050_frame.jpg\",\"./frames/022_frame.jpg\",\"./frames/065_frame.jpg\",\"./frames/059_frame.jpg\",\"./frames/010_frame.jpg\",\"./frames/055_frame.jpg\",\"./frames/036_frame.jpg\",\"./frames/004_frame.jpg\",\"./frames/053_frame.jpg\",\"./frames/048_frame.jpg\",\"./frames/054_frame.jpg\",\"./frames/019_frame.jpg\",\"./frames/035_frame.jpg\",\"./frames/005_frame.jpg\",\"./frames/043_frame.jpg\",\"./frames/023_frame.jpg\",\"./frames/027_frame.jpg\",\"./frames/033_frame.jpg\",\"./frames/040_frame.jpg\",\"./frames/002_frame.jpg\",\"./frames/037_frame.jpg\",\"./frames/045_frame.jpg\",\"./frames/014_frame.jpg\",\"./frames/052_frame.jpg\",\"./frames/047_frame.jpg\",\"./frames/020_frame.jpg\",\"./frames/041_frame.jpg\",\"./frames/018_frame.jpg\",\"./frames/070_frame.jpg\",\"./frames/069_frame.jpg\",\"./frames/061_frame.jpg\",\"./frames/007_frame.jpg\",\"./frames/067_frame.jpg\",\"./frames/058_frame.jpg\",\"./frames/006_frame.jpg\",\"./frames/064_frame.jpg\",\"./frames/046_frame.jpg\",\"./frames/032_frame.jpg\",\"./frames/034_frame.jpg\",\"./frames/001_frame.jpg\",\"./frames/009_frame.jpg\",\"./frames/057_frame.jpg\",\"./frames/042_frame.jpg\"],\"x\":{\"__ndarray__\":\"TkJRLsJXR8CDG3JlXI8lQAxqRn9bLz7Auts5ouVWPECMq3ONUwsvwNghKBWM4kBAhhf995dIREBM4PXvWs3zv5750XiYXQ3AHF6Mp3nbNcDNKLqDGfw6wCRkBi1WXBBAzrBYs7cSQcCtC0OE9J5BwAlJB3XMXB3AsVXvHuuKRsCHtFwd8gE4wDBhJT6sSzHARZdlRGKvQsBlAJ0Eg/s1QJ06QfbkPidAiT0OyaSdRsDVDYmhBCFAQP+QI23CdhVAF9E+/mv9SMAFIakQ498kwO5J+M1mH1RAgSGOx5aQOcCFjHvKX8M7wEGK8IByTETA0j2qsJGEI8CCnUC4DKcmwByhpZT3FUJA3SRZDukFPUBCr++sh+1EQAwL10RDnQbApU3L+xC9K0BJ1oskX6HyPyyl54BiNzfAvRidqXJKXEA5D1e9UhxHQOIWHOjUVhDABZxvIj2JJUAUaOQIMu0wwEejzscuaDRAd+5wJGG4Q8DO3COYIilFwGJoXUxY2B3AXcYyUCXpM0DD/ToKphZkQM7ZG4HiwUXA2o987T1xV0AkyeqqkXoYwH5Yvuu/OVVACTaY8e9pNEDI3IJMrghcQKTFsKFq/UjAqkvTSRFXR8BZhsDyV043wElFPu5hyzbA4G/NE1QOOMCeb+qco3kdwDS2XjD8QTHArHbfxFdtQMCioAF/r+9AwDbPBODWpDxASmfakZF0PcAkgIwqyzU8wBkjH0lgOSHAkyoCD6yGIcAY12UHnvYvwA==\",\"dtype\":\"float64\",\"order\":\"little\",\"shape\":[71]},\"y\":{\"__ndarray__\":\"0KAsYV9DI8CZ9uDc5QM4wAtrjiGUNSDAp0+ZlK3EQUBbPxizFW8wQBMTJNZsvxzAnImepdgfMkD3c9997wQswLwxK6TqvSvAXStIQLQ4JEA0I07hIMAQQOW05V5UujfAbL4l00p2AkDMqmHmwFkJwAoCALSPJDZA0R0wZk0YGMB2819wNVQRQIYUrFKr7DLARrpZ7XiYE8DFotXiesswwOoA/PytNCpApmU+5+viF8AxgIJc+eQZwFSIwmd2ZUNAjb18NH/sIMAeqVmLtDUqwNxYAX2utC9AqKRdCeuAKcCKjP2EA7UwwC+VnXDHWCbApFLCdtNxNcBKYpMpxiY5QOiZengl1xLAsSqjC/0eEEAU7ZPuCnMSwOjbOpNXW0BAR+Qs93rKJ8D4N8pqoTsdQKiBJke4xhjAMqIS19TjEcBqCE55cAsKwL/1tnws1j9AT3xEkvl3LEC+3J+MvUL9P3wle5+aLE1AvG3Lste4JMBrIyERT3oMwDtdxNP+kzXAJqs2k9S6I0CQI0+TBxZTwNGJDsm45BTA+MJIPVz5NkCvZ+wlkd4HQInNjEhc5jpAJdhW2268K0AGyxcwHczdP6MkIc197CDA9dvyF51NIMDYseYp5OkoQCkAiGLWdiNAmmutIjHkMsADBFCBxgMBQOxSclkmmjNAHqKzw0jm8j9SM2anYlwYwCigL+sI1gvAyf1ZEWbTIMBl+5vW35AvwJSAzMX60SZAqaI2GJthMsALP0/RbhgNwA==\",\"dtype\":\"float64\",\"order\":\"little\",\"shape\":[71]}},\"selected\":{\"id\":\"1052\"},\"selection_policy\":{\"id\":\"1051\"}},\"id\":\"1002\",\"type\":\"ColumnDataSource\"},{\"attributes\":{},\"id\":\"1045\",\"type\":\"AllLabels\"},{\"attributes\":{},\"id\":\"1010\",\"type\":\"LinearScale\"},{\"attributes\":{},\"id\":\"1008\",\"type\":\"DataRange1d\"},{\"attributes\":{\"axis\":{\"id\":\"1014\"},\"ticker\":null},\"id\":\"1017\",\"type\":\"Grid\"},{\"attributes\":{},\"id\":\"1019\",\"type\":\"BasicTicker\"},{\"attributes\":{},\"id\":\"1023\",\"type\":\"WheelZoomTool\"},{\"attributes\":{},\"id\":\"1006\",\"type\":\"DataRange1d\"},{\"attributes\":{},\"id\":\"1047\",\"type\":\"BasicTickFormatter\"},{\"attributes\":{},\"id\":\"1051\",\"type\":\"UnionRenderers\"},{\"attributes\":{},\"id\":\"1022\",\"type\":\"PanTool\"},{\"attributes\":{},\"id\":\"1012\",\"type\":\"LinearScale\"},{\"attributes\":{\"data_source\":{\"id\":\"1002\"},\"glyph\":{\"id\":\"1039\"},\"hover_glyph\":null,\"muted_glyph\":null,\"nonselection_glyph\":{\"id\":\"1040\"},\"view\":{\"id\":\"1042\"}},\"id\":\"1041\",\"type\":\"GlyphRenderer\"},{\"attributes\":{\"source\":{\"id\":\"1002\"}},\"id\":\"1042\",\"type\":\"CDSView\"},{\"attributes\":{\"fill_alpha\":{\"value\":0.1},\"fill_color\":{\"value\":\"#ff0000\"},\"line_alpha\":{\"value\":0.1},\"line_color\":{\"value\":\"#ff0000\"},\"size\":{\"value\":15},\"x\":{\"field\":\"x\"},\"y\":{\"field\":\"y\"}},\"id\":\"1040\",\"type\":\"Circle\"}],\"root_ids\":[\"1003\"]},\"title\":\"Bokeh Application\",\"version\":\"2.3.3\"}};\n",
              "  var render_items = [{\"docid\":\"471a5843-8564-419f-8de9-8a20ba35a0b6\",\"root_ids\":[\"1003\"],\"roots\":{\"1003\":\"ec9eda63-e7bb-4b68-a30c-0ec0493e4b7f\"}}];\n",
              "  root.Bokeh.embed.embed_items_notebook(docs_json, render_items);\n",
              "\n",
              "  }\n",
              "  if (root.Bokeh !== undefined) {\n",
              "    embed_document(root);\n",
              "  } else {\n",
              "    var attempts = 0;\n",
              "    var timer = setInterval(function(root) {\n",
              "      if (root.Bokeh !== undefined) {\n",
              "        clearInterval(timer);\n",
              "        embed_document(root);\n",
              "      } else {\n",
              "        attempts++;\n",
              "        if (attempts > 100) {\n",
              "          clearInterval(timer);\n",
              "          console.log(\"Bokeh: ERROR: Unable to run BokehJS code because BokehJS library is missing\");\n",
              "        }\n",
              "      }\n",
              "    }, 10, root)\n",
              "  }\n",
              "})(window);"
            ],
            "application/vnd.bokehjs_exec.v0+json": ""
          },
          "metadata": {
            "application/vnd.bokehjs_exec.v0+json": {
              "id": "1003"
            }
          }
        }
      ]
    },
    {
      "cell_type": "markdown",
      "source": [
        "# **Работа с длиной кадра**"
      ],
      "metadata": {
        "id": "DzRJAICW0_sE"
      }
    },
    {
      "cell_type": "markdown",
      "source": [
        "## **Шаг 3**: импортируем дополнительные библиотеки"
      ],
      "metadata": {
        "id": "ktnbFbWI9R_o"
      }
    },
    {
      "cell_type": "code",
      "source": [
        "from scenedetect import VideoManager\n",
        "from scenedetect import SceneManager\n",
        "from scenedetect.detectors import ContentDetector"
      ],
      "metadata": {
        "id": "iD6apwSW1GvA"
      },
      "execution_count": null,
      "outputs": []
    },
    {
      "cell_type": "markdown",
      "source": [
        "### **Задание**: Colab не знает библиотеки scenedetect. Скачайте её."
      ],
      "metadata": {
        "id": "4ky2EMhL9cz6"
      }
    },
    {
      "cell_type": "code",
      "source": [
        "\"\"\"Напишите ваш код здесь\"\"\""
      ],
      "metadata": {
        "id": "mknXyPm3-A64"
      },
      "execution_count": null,
      "outputs": []
    },
    {
      "cell_type": "markdown",
      "source": [
        "#### **Решение**:"
      ],
      "metadata": {
        "id": "R3gljO3d-FqP"
      }
    },
    {
      "cell_type": "code",
      "source": [
        "! pip install scenedetect"
      ],
      "metadata": {
        "id": "Q67njCBY-KAm",
        "colab": {
          "base_uri": "https://localhost:8080/"
        },
        "outputId": "a5c7facb-1af4-46e8-d8d0-75656633deb3"
      },
      "execution_count": null,
      "outputs": [
        {
          "output_type": "stream",
          "name": "stdout",
          "text": [
            "Looking in indexes: https://pypi.org/simple, https://us-python.pkg.dev/colab-wheels/public/simple/\n",
            "Collecting scenedetect\n",
            "  Downloading scenedetect-0.6.1-py3-none-any.whl (115 kB)\n",
            "\u001b[?25l     \u001b[90m━━━━━━━━━━━━━━━━━━━━━━━━━━━━━━━━━━━━━━━━\u001b[0m \u001b[32m0.0/115.1 KB\u001b[0m \u001b[31m?\u001b[0m eta \u001b[36m-:--:--\u001b[0m\r\u001b[2K     \u001b[90m━━━━━━━━━━━━━━━━━━━━━━━━━━━━━━━━━━━━━━━\u001b[0m \u001b[32m115.1/115.1 KB\u001b[0m \u001b[31m9.2 MB/s\u001b[0m eta \u001b[36m0:00:00\u001b[0m\n",
            "\u001b[?25hRequirement already satisfied: appdirs in /usr/local/lib/python3.8/dist-packages (from scenedetect) (1.4.4)\n",
            "Requirement already satisfied: numpy in /usr/local/lib/python3.8/dist-packages (from scenedetect) (1.21.6)\n",
            "Requirement already satisfied: tqdm in /usr/local/lib/python3.8/dist-packages (from scenedetect) (4.64.1)\n",
            "Requirement already satisfied: Click in /usr/local/lib/python3.8/dist-packages (from scenedetect) (7.1.2)\n",
            "Installing collected packages: scenedetect\n",
            "Successfully installed scenedetect-0.6.1\n"
          ]
        }
      ]
    },
    {
      "cell_type": "markdown",
      "source": [
        "## **Шаг 4**: Создадим необходимые нам функции для работы с видео"
      ],
      "metadata": {
        "id": "1E7CbMVO-L-i"
      }
    },
    {
      "cell_type": "code",
      "source": [
        "'''выдает таплы с тем, на каком кадре начинается и на каком заканчивается сцена'''\n",
        "def find_scenes(video_path, threshold=25.0):\n",
        "    # Create our video & scene managers, then add the detector.\n",
        "    video_manager = VideoManager([video_path])\n",
        "    scene_manager = SceneManager()\n",
        "    scene_manager.add_detector(\n",
        "        ContentDetector(threshold=threshold))\n",
        "\n",
        "    # Improve processing speed by downscaling before processing.\n",
        "    video_manager.set_downscale_factor()\n",
        "\n",
        "    # Start the video manager and perform the scene detection.\n",
        "    video_manager.start()\n",
        "    scene_manager.detect_scenes(frame_source=video_manager)\n",
        "\n",
        "    # Each returned scene is a tuple of the (start, end) timecode.\n",
        "    return scene_manager.get_scene_list()"
      ],
      "metadata": {
        "id": "14zFY2mp1d2H"
      },
      "execution_count": null,
      "outputs": []
    },
    {
      "cell_type": "markdown",
      "source": [
        "### **Задание**: допишите функцию так, чтобы она умела преобразовывать время вида 00:04:59.174 в количество секунд"
      ],
      "metadata": {
        "id": "f5iQy9Y8-yCK"
      }
    },
    {
      "cell_type": "code",
      "source": [
        "def time_2_num_sec(time, num_round_digits=1): \n",
        "    sec = ''''''''''''\n",
        "    return round(sec, num_round_digits)"
      ],
      "metadata": {
        "id": "FDCCBBQv_QTl"
      },
      "execution_count": null,
      "outputs": []
    },
    {
      "cell_type": "markdown",
      "source": [
        "#### **Решение**:"
      ],
      "metadata": {
        "id": "Nl_Mz-WZ_MFA"
      }
    },
    {
      "cell_type": "code",
      "source": [
        "'''конвертирует время из часов и минут чисто в секунды'''\n",
        "def time_2_num_sec(time, num_round_digits=1): \n",
        "    sec = int(time[:2]) * 3600 + int(time[3:5]) * 60 + float(time[6:])\n",
        "    return round(sec, num_round_digits)"
      ],
      "metadata": {
        "id": "hZ0SWNU-14GF"
      },
      "execution_count": null,
      "outputs": []
    },
    {
      "cell_type": "markdown",
      "source": [
        "## **Шаг 5**: Вычленим сцены и визуализируем их "
      ],
      "metadata": {
        "id": "Yj-DNYWs_tCY"
      }
    },
    {
      "cell_type": "code",
      "source": [
        "def film_shots_lengths_preprocessing(path):\n",
        "    \n",
        "    scenes = find_scenes(path) #находим сцены в фильме\n",
        "    \n",
        "    shot_start_times = [str(scene[0])[:-4] for scene in scenes] #вычленяем начало сцен\n",
        "    \n",
        "    full_shot_length = [str(end - start) for start, end in scenes] #вычленяем длину сцен\n",
        "    \n",
        "    shot_lengths = list(map(time_2_num_sec, full_shot_length)) #длину сцен конвертируем в секунды\n",
        "    \n",
        "    return shot_lengths, shot_start_times"
      ],
      "metadata": {
        "id": "a1vPZ9F02CD2"
      },
      "execution_count": null,
      "outputs": []
    },
    {
      "cell_type": "code",
      "source": [
        "def plot_scene_lengths(title, color, shot_lengths, shot_start_times, each_shot = 1, step=2, if_draw_line=True):\n",
        "\n",
        "    plt.style.use('ggplot')\n",
        "    plt.figure(figsize=(50,25))\n",
        "    plt.bar(shot_start_times,shot_lengths, color=color)\n",
        "    plt.xticks(shot_start_times[::each_shot], rotation = 45, fontsize=24)\n",
        "    plt.yticks(range(0, int(max(shot_lengths) + step),step), fontsize=24)\n",
        "    plt.xlabel('Начало сцены', fontsize=28)\n",
        "    plt.ylabel('Длина сцены в секундах', fontsize=28)\n",
        "    plt.title(title, fontsize = 36)\n",
        "    # if if_draw_line:\n",
        "    #     x = range(len(shot_start_times))\n",
        "    #     m, b = np.polyfit(x, shot_lengths, 1)\n",
        "    #     plt.plot(x, m*np.array(x) + b, linewidth=4)\n",
        "    plt.show()"
      ],
      "metadata": {
        "id": "4BpGIQ6K2SRW"
      },
      "execution_count": null,
      "outputs": []
    },
    {
      "cell_type": "markdown",
      "source": [
        "### **Задание**: пользуясь вышеописанными функциями, вычлените длину сцен и начало сцен. Визуализируйте полученные данные."
      ],
      "metadata": {
        "id": "odpMl4IqAFiO"
      }
    },
    {
      "cell_type": "code",
      "source": [
        "\"\"\"Напишите ваш код здесь\"\"\""
      ],
      "metadata": {
        "id": "bMOphb41AWxx"
      },
      "execution_count": null,
      "outputs": []
    },
    {
      "cell_type": "markdown",
      "source": [
        "#### **Решение**:"
      ],
      "metadata": {
        "id": "9hYak-G_AZrF"
      }
    },
    {
      "cell_type": "code",
      "source": [
        "shot_lengths, shot_start_times = film_shots_lengths_preprocessing('/content/LaLaLand_trailer.mp4')"
      ],
      "metadata": {
        "colab": {
          "base_uri": "https://localhost:8080/"
        },
        "id": "Oy5Kxvca2aCO",
        "outputId": "7651251e-a62b-40f5-b785-37c4c2581037"
      },
      "execution_count": null,
      "outputs": [
        {
          "output_type": "stream",
          "name": "stderr",
          "text": [
            "ERROR:pyscenedetect:VideoManager is deprecated and will be removed.\n",
            "INFO:pyscenedetect:Loaded 1 video, framerate: 60.000 FPS, resolution: 2558 x 1136\n",
            "INFO:pyscenedetect:Downscale factor set to 9, effective resolution: 284 x 126\n",
            "INFO:pyscenedetect:Detecting scenes...\n"
          ]
        }
      ]
    },
    {
      "cell_type": "code",
      "source": [
        "plot_scene_lengths('La-La-Land -- shots lengths','royalblue', shot_lengths, shot_start_times)"
      ],
      "metadata": {
        "colab": {
          "base_uri": "https://localhost:8080/",
          "height": 819
        },
        "id": "f_NkD_u-22av",
        "outputId": "52a2b1c0-4de2-4349-ee65-1daee37a9fd9"
      },
      "execution_count": null,
      "outputs": [
        {
          "output_type": "display_data",
          "data": {
            "text/plain": [
              "<Figure size 3600x1800 with 1 Axes>"
            ],
            "image/png": "[encoded data removed]"
          },
          "metadata": {}
        }
      ]
    },
    {
      "cell_type": "markdown",
      "source": [
        "# **Работа с лицами**"
      ],
      "metadata": {
        "id": "bu8dyoK9AtS-"
      }
    },
    {
      "cell_type": "markdown",
      "source": [
        "## **Шаг 3**: импортируем дополнительные библиотеки (не забудьте изменить Runtime на GPU)"
      ],
      "metadata": {
        "id": "tOIKSVFbhqpL"
      }
    },
    {
      "cell_type": "code",
      "source": [
        "! pip install face-recognition"
      ],
      "metadata": {
        "colab": {
          "base_uri": "https://localhost:8080/"
        },
        "id": "pctd6Rd4IzPK",
        "outputId": "e4cc063e-2632-4321-d3d7-d0f5864381f1"
      },
      "execution_count": null,
      "outputs": [
        {
          "output_type": "stream",
          "name": "stdout",
          "text": [
            "Looking in indexes: https://pypi.org/simple, https://us-python.pkg.dev/colab-wheels/public/simple/\n",
            "Collecting face-recognition\n",
            "  Downloading face_recognition-1.3.0-py2.py3-none-any.whl (15 kB)\n",
            "Requirement already satisfied: Pillow in /usr/local/lib/python3.8/dist-packages (from face-recognition) (7.1.2)\n",
            "Collecting face-recognition-models>=0.3.0\n",
            "  Downloading face_recognition_models-0.3.0.tar.gz (100.1 MB)\n",
            "\u001b[2K     \u001b[90m━━━━━━━━━━━━━━━━━━━━━━━━━━━━━━━━━━━━━━\u001b[0m \u001b[32m100.1/100.1 MB\u001b[0m \u001b[31m10.8 MB/s\u001b[0m eta \u001b[36m0:00:00\u001b[0m\n",
            "\u001b[?25h  Preparing metadata (setup.py) ... \u001b[?25l\u001b[?25hdone\n",
            "Requirement already satisfied: numpy in /usr/local/lib/python3.8/dist-packages (from face-recognition) (1.21.6)\n",
            "Requirement already satisfied: dlib>=19.7 in /usr/local/lib/python3.8/dist-packages (from face-recognition) (19.24.0)\n",
            "Requirement already satisfied: Click>=6.0 in /usr/local/lib/python3.8/dist-packages (from face-recognition) (7.1.2)\n",
            "Building wheels for collected packages: face-recognition-models\n",
            "  Building wheel for face-recognition-models (setup.py) ... \u001b[?25l\u001b[?25hdone\n",
            "  Created wheel for face-recognition-models: filename=face_recognition_models-0.3.0-py2.py3-none-any.whl size=100566185 sha256=38c18d5a879c2bc1c152d6b3adebe063779870ea67bc2aba1a697185ce5f35d9\n",
            "  Stored in directory: /root/.cache/pip/wheels/b4/4b/8f/751e99d45f089bdf366a7d3e5066db3c2b84a62e4377f534d7\n",
            "Successfully built face-recognition-models\n",
            "Installing collected packages: face-recognition-models, face-recognition\n",
            "Successfully installed face-recognition-1.3.0 face-recognition-models-0.3.0\n"
          ]
        }
      ]
    },
    {
      "cell_type": "code",
      "source": [
        "import face_recognition"
      ],
      "metadata": {
        "id": "ygIR34GFHyl7"
      },
      "execution_count": null,
      "outputs": []
    },
    {
      "cell_type": "markdown",
      "source": [
        "## **Шаг 4**: создаём функцию, которая умеет находить лица, считать их количество на картинке и рассчитывать их процент"
      ],
      "metadata": {
        "id": "a9a7JRkdh8wY"
      }
    },
    {
      "cell_type": "code",
      "source": [
        "def compute_face_areas_with_percents_face_recognition(directory, small_face_percent_treshold=1.):\n",
        "    \n",
        "    columns_name = ['frame_num', 'num_of_faces', 'face_percentage', 'face_coordinates']\n",
        "    data = pd.DataFrame(columns = columns_name)\n",
        "\n",
        "    for file in tqdm(os.listdir(directory)):\n",
        "        if file.endswith('.jpg'):\n",
        "            image = face_recognition.load_image_file(os.path.join(directory, file))\n",
        "            full_img_size = image.shape[0]*image.shape[1]\n",
        "            all_face_locations = face_recognition.face_locations(image, number_of_times_to_upsample=2)\n",
        "            \n",
        "            big_face_percentages = []\n",
        "            big_face_locations = []\n",
        "            for face_location in all_face_locations:\n",
        "                top, right, bottom, left = face_location\n",
        "                face_square = (bottom-top)*(right-left)\n",
        "                percentage_of_face_in_img = (face_square/full_img_size)*100\n",
        "                if percentage_of_face_in_img > small_face_percent_treshold:\n",
        "                    big_face_percentages.append(round(percentage_of_face_in_img, 1))\n",
        "                    big_face_locations.append(face_location)\n",
        "                    \n",
        "            dict_of_frames = {'frame_num': file, 'num_of_faces':len(big_face_locations), \n",
        "                              'face_percentage': big_face_percentages, \n",
        "                                  'face_coordinates': big_face_locations}\n",
        "\n",
        "            data = data.append(dict_of_frames, ignore_index=True)\n",
        "    return data"
      ],
      "metadata": {
        "id": "nJ6mL6XsIBIv"
      },
      "execution_count": null,
      "outputs": []
    },
    {
      "cell_type": "markdown",
      "source": [
        "## **Шаг 5**: посчитаем количество лиц на кадрах, их процент и расположение (*пропустить*)"
      ],
      "metadata": {
        "id": "xwwg3wmJ006E"
      }
    },
    {
      "cell_type": "code",
      "source": [
        "df_LLL = compute_face_areas_with_percents_face_recognition(\"./frames\")"
      ],
      "metadata": {
        "id": "WCRVT_rdIIef"
      },
      "execution_count": null,
      "outputs": []
    },
    {
      "cell_type": "code",
      "source": [
        "df_LLL[\"width\"] = 1136\n",
        "df_LLL[\"height\"] = 2558\n",
        "df_LLL.head()"
      ],
      "metadata": {
        "id": "aRzgtDl6QsWb"
      },
      "execution_count": null,
      "outputs": []
    },
    {
      "cell_type": "code",
      "source": [
        "\"\"\"Я сохраню наши данные, чтобы мы могли их подгрузить на паре\"\"\"\n",
        "df_LLL.to_csv(\"df_LLL.csv\")"
      ],
      "metadata": {
        "id": "P_Vha3QFuBao"
      },
      "execution_count": null,
      "outputs": []
    },
    {
      "cell_type": "markdown",
      "source": [
        "## **Шаг 6**: откроем наши данные и посмотрим на то, как они выглядят"
      ],
      "metadata": {
        "id": "ltW7ms4gutXP"
      }
    },
    {
      "cell_type": "code",
      "source": [
        "! gdown --id 1ydz-gslYzphVfIeCjQ_sE4jwR23K67oS"
      ],
      "metadata": {
        "id": "oZc7IkW51F03",
        "colab": {
          "base_uri": "https://localhost:8080/"
        },
        "outputId": "a11353ae-bef7-4cff-d6ee-02322701e9a8"
      },
      "execution_count": null,
      "outputs": [
        {
          "output_type": "stream",
          "name": "stdout",
          "text": [
            "/usr/local/lib/python3.8/dist-packages/gdown/cli.py:127: FutureWarning: Option `--id` was deprecated in version 4.3.1 and will be removed in 5.0. You don't need to pass it anymore to use a file ID.\n",
            "  warnings.warn(\n",
            "Downloading...\n",
            "From: https://drive.google.com/uc?id=1ydz-gslYzphVfIeCjQ_sE4jwR23K67oS\n",
            "To: /content/df_LLL.csv\n",
            "100% 3.14k/3.14k [00:00<00:00, 6.80MB/s]\n"
          ]
        }
      ]
    },
    {
      "cell_type": "markdown",
      "source": [
        "### **Задание**: откройте csv документ и посмотрите первые 5 строк"
      ],
      "metadata": {
        "id": "3ESsXYZq1Ufr"
      }
    },
    {
      "cell_type": "code",
      "source": [
        "\"\"\"\"Напишите ваш код здесь\"\"\""
      ],
      "metadata": {
        "id": "GBwmpSO25Agm"
      },
      "execution_count": null,
      "outputs": []
    },
    {
      "cell_type": "markdown",
      "source": [
        "#### **Решение**:"
      ],
      "metadata": {
        "id": "F_xtR9nc1fMj"
      }
    },
    {
      "cell_type": "code",
      "source": [
        "df_LLL = pd.read_csv(\"df_LLL.csv\", sep=',', index_col=0)"
      ],
      "metadata": {
        "id": "wa1rINawuWV0"
      },
      "execution_count": null,
      "outputs": []
    },
    {
      "cell_type": "code",
      "source": [
        "df_LLL.head()"
      ],
      "metadata": {
        "colab": {
          "base_uri": "https://localhost:8080/",
          "height": 206
        },
        "id": "kiTtNCiEJAog",
        "outputId": "946afd08-7af1-47bd-85ee-ec8b77120e82"
      },
      "execution_count": null,
      "outputs": [
        {
          "output_type": "execute_result",
          "data": {
            "text/plain": [
              "       frame_num  num_of_faces face_percentage          face_coordinates  \\\n",
              "0  000_frame.jpg             0              []                        []   \n",
              "1  024_frame.jpg             1           [7.9]  [(255, 2064, 734, 1585)]   \n",
              "2  060_frame.jpg             1          [16.4]  [(214, 1747, 904, 1057)]   \n",
              "3  026_frame.jpg             0              []                        []   \n",
              "4  062_frame.jpg             0              []                        []   \n",
              "\n",
              "   width  height  \n",
              "0   1136    2558  \n",
              "1   1136    2558  \n",
              "2   1136    2558  \n",
              "3   1136    2558  \n",
              "4   1136    2558  "
            ],
            "text/html": [
              "\n",
              "  <div id=\"df-f983b09e-db1b-495f-85da-a95b41a94809\">\n",
              "    <div class=\"colab-df-container\">\n",
              "      <div>\n",
              "<style scoped>\n",
              "    .dataframe tbody tr th:only-of-type {\n",
              "        vertical-align: middle;\n",
              "    }\n",
              "\n",
              "    .dataframe tbody tr th {\n",
              "        vertical-align: top;\n",
              "    }\n",
              "\n",
              "    .dataframe thead th {\n",
              "        text-align: right;\n",
              "    }\n",
              "</style>\n",
              "<table border=\"1\" class=\"dataframe\">\n",
              "  <thead>\n",
              "    <tr style=\"text-align: right;\">\n",
              "      <th></th>\n",
              "      <th>frame_num</th>\n",
              "      <th>num_of_faces</th>\n",
              "      <th>face_percentage</th>\n",
              "      <th>face_coordinates</th>\n",
              "      <th>width</th>\n",
              "      <th>height</th>\n",
              "    </tr>\n",
              "  </thead>\n",
              "  <tbody>\n",
              "    <tr>\n",
              "      <th>0</th>\n",
              "      <td>000_frame.jpg</td>\n",
              "      <td>0</td>\n",
              "      <td>[]</td>\n",
              "      <td>[]</td>\n",
              "      <td>1136</td>\n",
              "      <td>2558</td>\n",
              "    </tr>\n",
              "    <tr>\n",
              "      <th>1</th>\n",
              "      <td>024_frame.jpg</td>\n",
              "      <td>1</td>\n",
              "      <td>[7.9]</td>\n",
              "      <td>[(255, 2064, 734, 1585)]</td>\n",
              "      <td>1136</td>\n",
              "      <td>2558</td>\n",
              "    </tr>\n",
              "    <tr>\n",
              "      <th>2</th>\n",
              "      <td>060_frame.jpg</td>\n",
              "      <td>1</td>\n",
              "      <td>[16.4]</td>\n",
              "      <td>[(214, 1747, 904, 1057)]</td>\n",
              "      <td>1136</td>\n",
              "      <td>2558</td>\n",
              "    </tr>\n",
              "    <tr>\n",
              "      <th>3</th>\n",
              "      <td>026_frame.jpg</td>\n",
              "      <td>0</td>\n",
              "      <td>[]</td>\n",
              "      <td>[]</td>\n",
              "      <td>1136</td>\n",
              "      <td>2558</td>\n",
              "    </tr>\n",
              "    <tr>\n",
              "      <th>4</th>\n",
              "      <td>062_frame.jpg</td>\n",
              "      <td>0</td>\n",
              "      <td>[]</td>\n",
              "      <td>[]</td>\n",
              "      <td>1136</td>\n",
              "      <td>2558</td>\n",
              "    </tr>\n",
              "  </tbody>\n",
              "</table>\n",
              "</div>\n",
              "      <button class=\"colab-df-convert\" onclick=\"convertToInteractive('df-f983b09e-db1b-495f-85da-a95b41a94809')\"\n",
              "              title=\"Convert this dataframe to an interactive table.\"\n",
              "              style=\"display:none;\">\n",
              "        \n",
              "  <svg xmlns=\"http://www.w3.org/2000/svg\" height=\"24px\"viewBox=\"0 0 24 24\"\n",
              "       width=\"24px\">\n",
              "    <path d=\"M0 0h24v24H0V0z\" fill=\"none\"/>\n",
              "    <path d=\"M18.56 5.44l.94 2.06.94-2.06 2.06-.94-2.06-.94-.94-2.06-.94 2.06-2.06.94zm-11 1L8.5 8.5l.94-2.06 2.06-.94-2.06-.94L8.5 2.5l-.94 2.06-2.06.94zm10 10l.94 2.06.94-2.06 2.06-.94-2.06-.94-.94-2.06-.94 2.06-2.06.94z\"/><path d=\"M17.41 7.96l-1.37-1.37c-.4-.4-.92-.59-1.43-.59-.52 0-1.04.2-1.43.59L10.3 9.45l-7.72 7.72c-.78.78-.78 2.05 0 2.83L4 21.41c.39.39.9.59 1.41.59.51 0 1.02-.2 1.41-.59l7.78-7.78 2.81-2.81c.8-.78.8-2.07 0-2.86zM5.41 20L4 18.59l7.72-7.72 1.47 1.35L5.41 20z\"/>\n",
              "  </svg>\n",
              "      </button>\n",
              "      \n",
              "  <style>\n",
              "    .colab-df-container {\n",
              "      display:flex;\n",
              "      flex-wrap:wrap;\n",
              "      gap: 12px;\n",
              "    }\n",
              "\n",
              "    .colab-df-convert {\n",
              "      background-color: #E8F0FE;\n",
              "      border: none;\n",
              "      border-radius: 50%;\n",
              "      cursor: pointer;\n",
              "      display: none;\n",
              "      fill: #1967D2;\n",
              "      height: 32px;\n",
              "      padding: 0 0 0 0;\n",
              "      width: 32px;\n",
              "    }\n",
              "\n",
              "    .colab-df-convert:hover {\n",
              "      background-color: #E2EBFA;\n",
              "      box-shadow: 0px 1px 2px rgba(60, 64, 67, 0.3), 0px 1px 3px 1px rgba(60, 64, 67, 0.15);\n",
              "      fill: #174EA6;\n",
              "    }\n",
              "\n",
              "    [theme=dark] .colab-df-convert {\n",
              "      background-color: #3B4455;\n",
              "      fill: #D2E3FC;\n",
              "    }\n",
              "\n",
              "    [theme=dark] .colab-df-convert:hover {\n",
              "      background-color: #434B5C;\n",
              "      box-shadow: 0px 1px 3px 1px rgba(0, 0, 0, 0.15);\n",
              "      filter: drop-shadow(0px 1px 2px rgba(0, 0, 0, 0.3));\n",
              "      fill: #FFFFFF;\n",
              "    }\n",
              "  </style>\n",
              "\n",
              "      <script>\n",
              "        const buttonEl =\n",
              "          document.querySelector('#df-f983b09e-db1b-495f-85da-a95b41a94809 button.colab-df-convert');\n",
              "        buttonEl.style.display =\n",
              "          google.colab.kernel.accessAllowed ? 'block' : 'none';\n",
              "\n",
              "        async function convertToInteractive(key) {\n",
              "          const element = document.querySelector('#df-f983b09e-db1b-495f-85da-a95b41a94809');\n",
              "          const dataTable =\n",
              "            await google.colab.kernel.invokeFunction('convertToInteractive',\n",
              "                                                     [key], {});\n",
              "          if (!dataTable) return;\n",
              "\n",
              "          const docLinkHtml = 'Like what you see? Visit the ' +\n",
              "            '<a target=\"_blank\" href=https://colab.research.google.com/notebooks/data_table.ipynb>data table notebook</a>'\n",
              "            + ' to learn more about interactive tables.';\n",
              "          element.innerHTML = '';\n",
              "          dataTable['output_type'] = 'display_data';\n",
              "          await google.colab.output.renderOutput(dataTable, element);\n",
              "          const docLink = document.createElement('div');\n",
              "          docLink.innerHTML = docLinkHtml;\n",
              "          element.appendChild(docLink);\n",
              "        }\n",
              "      </script>\n",
              "    </div>\n",
              "  </div>\n",
              "  "
            ]
          },
          "metadata": {},
          "execution_count": 29
        }
      ]
    },
    {
      "cell_type": "markdown",
      "source": [
        "## **Шаг 7**: на всякий случай, создадим копию нашего датафрейма, с которой будем работать. Если что-то пойдет не так, мы всегда сможем вернуться к исходнику, не загружая его снова, а оперируя переменной, в которой он лежит"
      ],
      "metadata": {
        "id": "i6dnPA_U1nZa"
      }
    },
    {
      "cell_type": "code",
      "source": [
        "df_LLL_copy = df_LLL.copy()"
      ],
      "metadata": {
        "id": "fmfs31bcVOqp"
      },
      "execution_count": null,
      "outputs": []
    },
    {
      "cell_type": "code",
      "source": [
        "one_face = df_LLL_copy.loc[df_LLL_copy['num_of_faces'] == 1]\n",
        "one_face"
      ],
      "metadata": {
        "colab": {
          "base_uri": "https://localhost:8080/",
          "height": 613
        },
        "id": "pZybK9kXZjzz",
        "outputId": "34547710-482d-439f-84c7-6f2334d265bc"
      },
      "execution_count": null,
      "outputs": [
        {
          "output_type": "execute_result",
          "data": {
            "text/plain": [
              "        frame_num  num_of_faces face_percentage          face_coordinates  \\\n",
              "1   024_frame.jpg             1           [7.9]  [(255, 2064, 734, 1585)]   \n",
              "2   060_frame.jpg             1          [16.4]  [(214, 1747, 904, 1057)]   \n",
              "5   030_frame.jpg             1           [1.3]  [(144, 1834, 337, 1641)]   \n",
              "22  029_frame.jpg             1           [1.3]  [(144, 1877, 337, 1684)]   \n",
              "23  003_frame.jpg             1           [2.7]  [(239, 1687, 517, 1409)]   \n",
              "35  004_frame.jpg             1           [2.6]  [(178, 1625, 455, 1348)]   \n",
              "37  048_frame.jpg             1          [23.6]   [(165, 1545, 993, 717)]   \n",
              "38  054_frame.jpg             1           [1.3]  [(187, 1770, 380, 1577)]   \n",
              "41  005_frame.jpg             1           [2.6]  [(147, 1594, 424, 1317)]   \n",
              "43  023_frame.jpg             1           [5.5]   [(256, 1099, 656, 699)]   \n",
              "45  033_frame.jpg             1           [3.8]   [(213, 1100, 546, 767)]   \n",
              "46  040_frame.jpg             1           [3.8]  [(361, 1433, 694, 1100)]   \n",
              "51  052_frame.jpg             1           [1.8]  [(225, 1508, 456, 1277)]   \n",
              "52  047_frame.jpg             1          [16.4]   [(291, 1440, 981, 750)]   \n",
              "55  018_frame.jpg             1           [7.9]  [(202, 1532, 681, 1053)]   \n",
              "61  058_frame.jpg             1          [23.1]     [(0, 1545, 809, 717)]   \n",
              "62  006_frame.jpg             1           [2.6]  [(147, 1594, 424, 1317)]   \n",
              "69  057_frame.jpg             1          [23.1]     [(0, 1545, 809, 717)]   \n",
              "\n",
              "    width  height  \n",
              "1    1136    2558  \n",
              "2    1136    2558  \n",
              "5    1136    2558  \n",
              "22   1136    2558  \n",
              "23   1136    2558  \n",
              "35   1136    2558  \n",
              "37   1136    2558  \n",
              "38   1136    2558  \n",
              "41   1136    2558  \n",
              "43   1136    2558  \n",
              "45   1136    2558  \n",
              "46   1136    2558  \n",
              "51   1136    2558  \n",
              "52   1136    2558  \n",
              "55   1136    2558  \n",
              "61   1136    2558  \n",
              "62   1136    2558  \n",
              "69   1136    2558  "
            ],
            "text/html": [
              "\n",
              "  <div id=\"df-d42752ca-5668-4c7d-9f5c-d873b36f935d\">\n",
              "    <div class=\"colab-df-container\">\n",
              "      <div>\n",
              "<style scoped>\n",
              "    .dataframe tbody tr th:only-of-type {\n",
              "        vertical-align: middle;\n",
              "    }\n",
              "\n",
              "    .dataframe tbody tr th {\n",
              "        vertical-align: top;\n",
              "    }\n",
              "\n",
              "    .dataframe thead th {\n",
              "        text-align: right;\n",
              "    }\n",
              "</style>\n",
              "<table border=\"1\" class=\"dataframe\">\n",
              "  <thead>\n",
              "    <tr style=\"text-align: right;\">\n",
              "      <th></th>\n",
              "      <th>frame_num</th>\n",
              "      <th>num_of_faces</th>\n",
              "      <th>face_percentage</th>\n",
              "      <th>face_coordinates</th>\n",
              "      <th>width</th>\n",
              "      <th>height</th>\n",
              "    </tr>\n",
              "  </thead>\n",
              "  <tbody>\n",
              "    <tr>\n",
              "      <th>1</th>\n",
              "      <td>024_frame.jpg</td>\n",
              "      <td>1</td>\n",
              "      <td>[7.9]</td>\n",
              "      <td>[(255, 2064, 734, 1585)]</td>\n",
              "      <td>1136</td>\n",
              "      <td>2558</td>\n",
              "    </tr>\n",
              "    <tr>\n",
              "      <th>2</th>\n",
              "      <td>060_frame.jpg</td>\n",
              "      <td>1</td>\n",
              "      <td>[16.4]</td>\n",
              "      <td>[(214, 1747, 904, 1057)]</td>\n",
              "      <td>1136</td>\n",
              "      <td>2558</td>\n",
              "    </tr>\n",
              "    <tr>\n",
              "      <th>5</th>\n",
              "      <td>030_frame.jpg</td>\n",
              "      <td>1</td>\n",
              "      <td>[1.3]</td>\n",
              "      <td>[(144, 1834, 337, 1641)]</td>\n",
              "      <td>1136</td>\n",
              "      <td>2558</td>\n",
              "    </tr>\n",
              "    <tr>\n",
              "      <th>22</th>\n",
              "      <td>029_frame.jpg</td>\n",
              "      <td>1</td>\n",
              "      <td>[1.3]</td>\n",
              "      <td>[(144, 1877, 337, 1684)]</td>\n",
              "      <td>1136</td>\n",
              "      <td>2558</td>\n",
              "    </tr>\n",
              "    <tr>\n",
              "      <th>23</th>\n",
              "      <td>003_frame.jpg</td>\n",
              "      <td>1</td>\n",
              "      <td>[2.7]</td>\n",
              "      <td>[(239, 1687, 517, 1409)]</td>\n",
              "      <td>1136</td>\n",
              "      <td>2558</td>\n",
              "    </tr>\n",
              "    <tr>\n",
              "      <th>35</th>\n",
              "      <td>004_frame.jpg</td>\n",
              "      <td>1</td>\n",
              "      <td>[2.6]</td>\n",
              "      <td>[(178, 1625, 455, 1348)]</td>\n",
              "      <td>1136</td>\n",
              "      <td>2558</td>\n",
              "    </tr>\n",
              "    <tr>\n",
              "      <th>37</th>\n",
              "      <td>048_frame.jpg</td>\n",
              "      <td>1</td>\n",
              "      <td>[23.6]</td>\n",
              "      <td>[(165, 1545, 993, 717)]</td>\n",
              "      <td>1136</td>\n",
              "      <td>2558</td>\n",
              "    </tr>\n",
              "    <tr>\n",
              "      <th>38</th>\n",
              "      <td>054_frame.jpg</td>\n",
              "      <td>1</td>\n",
              "      <td>[1.3]</td>\n",
              "      <td>[(187, 1770, 380, 1577)]</td>\n",
              "      <td>1136</td>\n",
              "      <td>2558</td>\n",
              "    </tr>\n",
              "    <tr>\n",
              "      <th>41</th>\n",
              "      <td>005_frame.jpg</td>\n",
              "      <td>1</td>\n",
              "      <td>[2.6]</td>\n",
              "      <td>[(147, 1594, 424, 1317)]</td>\n",
              "      <td>1136</td>\n",
              "      <td>2558</td>\n",
              "    </tr>\n",
              "    <tr>\n",
              "      <th>43</th>\n",
              "      <td>023_frame.jpg</td>\n",
              "      <td>1</td>\n",
              "      <td>[5.5]</td>\n",
              "      <td>[(256, 1099, 656, 699)]</td>\n",
              "      <td>1136</td>\n",
              "      <td>2558</td>\n",
              "    </tr>\n",
              "    <tr>\n",
              "      <th>45</th>\n",
              "      <td>033_frame.jpg</td>\n",
              "      <td>1</td>\n",
              "      <td>[3.8]</td>\n",
              "      <td>[(213, 1100, 546, 767)]</td>\n",
              "      <td>1136</td>\n",
              "      <td>2558</td>\n",
              "    </tr>\n",
              "    <tr>\n",
              "      <th>46</th>\n",
              "      <td>040_frame.jpg</td>\n",
              "      <td>1</td>\n",
              "      <td>[3.8]</td>\n",
              "      <td>[(361, 1433, 694, 1100)]</td>\n",
              "      <td>1136</td>\n",
              "      <td>2558</td>\n",
              "    </tr>\n",
              "    <tr>\n",
              "      <th>51</th>\n",
              "      <td>052_frame.jpg</td>\n",
              "      <td>1</td>\n",
              "      <td>[1.8]</td>\n",
              "      <td>[(225, 1508, 456, 1277)]</td>\n",
              "      <td>1136</td>\n",
              "      <td>2558</td>\n",
              "    </tr>\n",
              "    <tr>\n",
              "      <th>52</th>\n",
              "      <td>047_frame.jpg</td>\n",
              "      <td>1</td>\n",
              "      <td>[16.4]</td>\n",
              "      <td>[(291, 1440, 981, 750)]</td>\n",
              "      <td>1136</td>\n",
              "      <td>2558</td>\n",
              "    </tr>\n",
              "    <tr>\n",
              "      <th>55</th>\n",
              "      <td>018_frame.jpg</td>\n",
              "      <td>1</td>\n",
              "      <td>[7.9]</td>\n",
              "      <td>[(202, 1532, 681, 1053)]</td>\n",
              "      <td>1136</td>\n",
              "      <td>2558</td>\n",
              "    </tr>\n",
              "    <tr>\n",
              "      <th>61</th>\n",
              "      <td>058_frame.jpg</td>\n",
              "      <td>1</td>\n",
              "      <td>[23.1]</td>\n",
              "      <td>[(0, 1545, 809, 717)]</td>\n",
              "      <td>1136</td>\n",
              "      <td>2558</td>\n",
              "    </tr>\n",
              "    <tr>\n",
              "      <th>62</th>\n",
              "      <td>006_frame.jpg</td>\n",
              "      <td>1</td>\n",
              "      <td>[2.6]</td>\n",
              "      <td>[(147, 1594, 424, 1317)]</td>\n",
              "      <td>1136</td>\n",
              "      <td>2558</td>\n",
              "    </tr>\n",
              "    <tr>\n",
              "      <th>69</th>\n",
              "      <td>057_frame.jpg</td>\n",
              "      <td>1</td>\n",
              "      <td>[23.1]</td>\n",
              "      <td>[(0, 1545, 809, 717)]</td>\n",
              "      <td>1136</td>\n",
              "      <td>2558</td>\n",
              "    </tr>\n",
              "  </tbody>\n",
              "</table>\n",
              "</div>\n",
              "      <button class=\"colab-df-convert\" onclick=\"convertToInteractive('df-d42752ca-5668-4c7d-9f5c-d873b36f935d')\"\n",
              "              title=\"Convert this dataframe to an interactive table.\"\n",
              "              style=\"display:none;\">\n",
              "        \n",
              "  <svg xmlns=\"http://www.w3.org/2000/svg\" height=\"24px\"viewBox=\"0 0 24 24\"\n",
              "       width=\"24px\">\n",
              "    <path d=\"M0 0h24v24H0V0z\" fill=\"none\"/>\n",
              "    <path d=\"M18.56 5.44l.94 2.06.94-2.06 2.06-.94-2.06-.94-.94-2.06-.94 2.06-2.06.94zm-11 1L8.5 8.5l.94-2.06 2.06-.94-2.06-.94L8.5 2.5l-.94 2.06-2.06.94zm10 10l.94 2.06.94-2.06 2.06-.94-2.06-.94-.94-2.06-.94 2.06-2.06.94z\"/><path d=\"M17.41 7.96l-1.37-1.37c-.4-.4-.92-.59-1.43-.59-.52 0-1.04.2-1.43.59L10.3 9.45l-7.72 7.72c-.78.78-.78 2.05 0 2.83L4 21.41c.39.39.9.59 1.41.59.51 0 1.02-.2 1.41-.59l7.78-7.78 2.81-2.81c.8-.78.8-2.07 0-2.86zM5.41 20L4 18.59l7.72-7.72 1.47 1.35L5.41 20z\"/>\n",
              "  </svg>\n",
              "      </button>\n",
              "      \n",
              "  <style>\n",
              "    .colab-df-container {\n",
              "      display:flex;\n",
              "      flex-wrap:wrap;\n",
              "      gap: 12px;\n",
              "    }\n",
              "\n",
              "    .colab-df-convert {\n",
              "      background-color: #E8F0FE;\n",
              "      border: none;\n",
              "      border-radius: 50%;\n",
              "      cursor: pointer;\n",
              "      display: none;\n",
              "      fill: #1967D2;\n",
              "      height: 32px;\n",
              "      padding: 0 0 0 0;\n",
              "      width: 32px;\n",
              "    }\n",
              "\n",
              "    .colab-df-convert:hover {\n",
              "      background-color: #E2EBFA;\n",
              "      box-shadow: 0px 1px 2px rgba(60, 64, 67, 0.3), 0px 1px 3px 1px rgba(60, 64, 67, 0.15);\n",
              "      fill: #174EA6;\n",
              "    }\n",
              "\n",
              "    [theme=dark] .colab-df-convert {\n",
              "      background-color: #3B4455;\n",
              "      fill: #D2E3FC;\n",
              "    }\n",
              "\n",
              "    [theme=dark] .colab-df-convert:hover {\n",
              "      background-color: #434B5C;\n",
              "      box-shadow: 0px 1px 3px 1px rgba(0, 0, 0, 0.15);\n",
              "      filter: drop-shadow(0px 1px 2px rgba(0, 0, 0, 0.3));\n",
              "      fill: #FFFFFF;\n",
              "    }\n",
              "  </style>\n",
              "\n",
              "      <script>\n",
              "        const buttonEl =\n",
              "          document.querySelector('#df-d42752ca-5668-4c7d-9f5c-d873b36f935d button.colab-df-convert');\n",
              "        buttonEl.style.display =\n",
              "          google.colab.kernel.accessAllowed ? 'block' : 'none';\n",
              "\n",
              "        async function convertToInteractive(key) {\n",
              "          const element = document.querySelector('#df-d42752ca-5668-4c7d-9f5c-d873b36f935d');\n",
              "          const dataTable =\n",
              "            await google.colab.kernel.invokeFunction('convertToInteractive',\n",
              "                                                     [key], {});\n",
              "          if (!dataTable) return;\n",
              "\n",
              "          const docLinkHtml = 'Like what you see? Visit the ' +\n",
              "            '<a target=\"_blank\" href=https://colab.research.google.com/notebooks/data_table.ipynb>data table notebook</a>'\n",
              "            + ' to learn more about interactive tables.';\n",
              "          element.innerHTML = '';\n",
              "          dataTable['output_type'] = 'display_data';\n",
              "          await google.colab.output.renderOutput(dataTable, element);\n",
              "          const docLink = document.createElement('div');\n",
              "          docLink.innerHTML = docLinkHtml;\n",
              "          element.appendChild(docLink);\n",
              "        }\n",
              "      </script>\n",
              "    </div>\n",
              "  </div>\n",
              "  "
            ]
          },
          "metadata": {},
          "execution_count": 136
        }
      ]
    },
    {
      "cell_type": "code",
      "source": [
        "one_face[\"num_of_faces\"] = pd.to_numeric(one_face[\"num_of_faces\"])"
      ],
      "metadata": {
        "colab": {
          "base_uri": "https://localhost:8080/"
        },
        "id": "3w5By8s9DShw",
        "outputId": "a9d33849-f897-4944-ec75-be0d9004e1d5"
      },
      "execution_count": null,
      "outputs": [
        {
          "output_type": "stream",
          "name": "stderr",
          "text": [
            "WARNING:py.warnings:<ipython-input-137-a74a9f70934f>:1: SettingWithCopyWarning: \n",
            "A value is trying to be set on a copy of a slice from a DataFrame.\n",
            "Try using .loc[row_indexer,col_indexer] = value instead\n",
            "\n",
            "See the caveats in the documentation: https://pandas.pydata.org/pandas-docs/stable/user_guide/indexing.html#returning-a-view-versus-a-copy\n",
            "  one_face[\"num_of_faces\"] = pd.to_numeric(one_face[\"num_of_faces\"])\n",
            "\n"
          ]
        }
      ]
    },
    {
      "cell_type": "code",
      "source": [
        "for index, row in one_face.iterrows():\n",
        "  coordinates = row[3].strip(\"[]()\").split(\", \")\n",
        "  coordinates = [int(element) for element in coordinates]\n",
        "  one_face.at[index,'face_coordinates'] = coordinates"
      ],
      "metadata": {
        "id": "R9BALYS3GUS5"
      },
      "execution_count": null,
      "outputs": []
    },
    {
      "cell_type": "markdown",
      "source": [
        "### **Задание**: сейчас тип данных в колонке 'face_percentage' - не тот, что нам нужен. Выясните, какой это тип данных, превратите элемент каждой строки колонки face_percentage в список, и создайте список one_face_percentages с процентами, которое лицо занимает от кадра"
      ],
      "metadata": {
        "id": "r_1zAtCi_Vtb"
      }
    },
    {
      "cell_type": "markdown",
      "source": [
        "#### **Написание кода с нуля**"
      ],
      "metadata": {
        "id": "doW7vwFHBvE8"
      }
    },
    {
      "cell_type": "code",
      "source": [
        "\"\"\"Напишите ваш код здесь\"\"\""
      ],
      "metadata": {
        "id": "WrMINZRRB_rb"
      },
      "execution_count": null,
      "outputs": []
    },
    {
      "cell_type": "markdown",
      "source": [
        "#### **Код с некоторыми подсказками**"
      ],
      "metadata": {
        "id": "57PB21KCBzS7"
      }
    },
    {
      "cell_type": "code",
      "source": [
        "one_face_percentages = []\n",
        "for perc in one_face['face_percentage']:\n",
        "  '''''''''''''\n",
        "  if len(perc) == 0:\n",
        "    ''''''''''''''''''\n",
        "  else:\n",
        "    for element in perc:\n",
        "      ''''''''''''''''''''"
      ],
      "metadata": {
        "id": "5WhQFu83BYMp"
      },
      "execution_count": null,
      "outputs": []
    },
    {
      "cell_type": "markdown",
      "source": [
        "#### **Решение**:"
      ],
      "metadata": {
        "id": "fxd9sX3L_zTO"
      }
    },
    {
      "cell_type": "code",
      "source": [
        "for perc in one_face['face_percentage']:\n",
        "  print(type(perc))\n",
        "  print(perc.strip(\"[]\").split())\n",
        "  print(type(perc.strip(\"[]\").split()))"
      ],
      "metadata": {
        "colab": {
          "base_uri": "https://localhost:8080/"
        },
        "collapsed": true,
        "id": "huJDR5sT_6WW",
        "outputId": "d44a0ac4-c793-4dcd-fa33-1286d521fd1f"
      },
      "execution_count": null,
      "outputs": [
        {
          "output_type": "stream",
          "name": "stdout",
          "text": [
            "<class 'str'>\n",
            "['7.9']\n",
            "<class 'list'>\n",
            "<class 'str'>\n",
            "['16.4']\n",
            "<class 'list'>\n",
            "<class 'str'>\n",
            "['1.3']\n",
            "<class 'list'>\n",
            "<class 'str'>\n",
            "['1.3']\n",
            "<class 'list'>\n",
            "<class 'str'>\n",
            "['2.7']\n",
            "<class 'list'>\n",
            "<class 'str'>\n",
            "['2.6']\n",
            "<class 'list'>\n",
            "<class 'str'>\n",
            "['23.6']\n",
            "<class 'list'>\n",
            "<class 'str'>\n",
            "['1.3']\n",
            "<class 'list'>\n",
            "<class 'str'>\n",
            "['2.6']\n",
            "<class 'list'>\n",
            "<class 'str'>\n",
            "['5.5']\n",
            "<class 'list'>\n",
            "<class 'str'>\n",
            "['3.8']\n",
            "<class 'list'>\n",
            "<class 'str'>\n",
            "['3.8']\n",
            "<class 'list'>\n",
            "<class 'str'>\n",
            "['1.8']\n",
            "<class 'list'>\n",
            "<class 'str'>\n",
            "['16.4']\n",
            "<class 'list'>\n",
            "<class 'str'>\n",
            "['7.9']\n",
            "<class 'list'>\n",
            "<class 'str'>\n",
            "['23.1']\n",
            "<class 'list'>\n",
            "<class 'str'>\n",
            "['2.6']\n",
            "<class 'list'>\n",
            "<class 'str'>\n",
            "['23.1']\n",
            "<class 'list'>\n"
          ]
        }
      ]
    },
    {
      "cell_type": "code",
      "source": [
        "one_face_percentages = []\n",
        "for perc in one_face['face_percentage']:\n",
        "  perc = perc.strip(\"[]\").split()\n",
        "  if len(perc) == 0:\n",
        "    one_face_percentages.append(0) \n",
        "  else:\n",
        "    for element in perc:\n",
        "      one_face_percentages.append(float(element))"
      ],
      "metadata": {
        "id": "ptl1V7VmSBeH"
      },
      "execution_count": null,
      "outputs": []
    },
    {
      "cell_type": "markdown",
      "source": [
        "### **Задание**: постройте гистрограмму, которая бы изображала процент, который занимает лицо, и количество кадров с таким процентом"
      ],
      "metadata": {
        "id": "VR2yM5YN1-BO"
      }
    },
    {
      "cell_type": "markdown",
      "source": [
        "#### **Написание кода с нуля**"
      ],
      "metadata": {
        "id": "1x1X2L-72LDa"
      }
    },
    {
      "cell_type": "code",
      "source": [
        "\"\"\"Напишите ваш код здесь\"\"\""
      ],
      "metadata": {
        "id": "axKRHNgN2kou"
      },
      "execution_count": null,
      "outputs": []
    },
    {
      "cell_type": "markdown",
      "source": [
        "#### **Написание кода с некоторыми подсказками**"
      ],
      "metadata": {
        "id": "GsKmogXY2UP9"
      }
    },
    {
      "cell_type": "code",
      "source": [
        "plt.style.use('ggplot')\n",
        "plt.figure(figsize=(10,6))\n",
        "plt.hist('''''''''''''')\n",
        "plt.title('''''''''''''''''')\n",
        "plt.xticks(range(0,int(max(one_face_percentages)),2))\n",
        "plt.xlabel('''''''''''')\n",
        "plt.ylabel('''''''''''''')\n",
        "plt.tight_layout()"
      ],
      "metadata": {
        "id": "BQkXyip-2lRK"
      },
      "execution_count": null,
      "outputs": []
    },
    {
      "cell_type": "markdown",
      "source": [
        "#### **Решение**:"
      ],
      "metadata": {
        "id": "lAPeB9mp2fz3"
      }
    },
    {
      "cell_type": "code",
      "source": [
        "plt.style.use('ggplot')\n",
        "plt.figure(figsize=(10,6))\n",
        "plt.hist(one_face_percentages, color=\"forestgreen\")\n",
        "plt.title(\"La-La-Land -- процентаж одного лица\")\n",
        "plt.xticks(range(0,int(max(one_face_percentages)),2))\n",
        "plt.xlabel('Процент, которое занимает лицо', fontsize=12)\n",
        "plt.ylabel('Количество кадров', fontsize=12)\n",
        "plt.tight_layout()"
      ],
      "metadata": {
        "colab": {
          "base_uri": "https://localhost:8080/",
          "height": 441
        },
        "id": "6W0sWHyYYp5m",
        "outputId": "8c51920a-0160-47b8-9649-faf322103d2a"
      },
      "execution_count": null,
      "outputs": [
        {
          "output_type": "display_data",
          "data": {
            "text/plain": [
              "<Figure size 720x432 with 1 Axes>"
            ],
            "image/png": "[encoded data removed]"
          },
          "metadata": {}
        }
      ]
    },
    {
      "cell_type": "markdown",
      "source": [
        "### **Задание**: выясните, есть ли кадры с 0/3/4 лицами в датафрейме, и если да, то сколько их"
      ],
      "metadata": {
        "id": "nJtrXMv13eXU"
      }
    },
    {
      "cell_type": "code",
      "source": [
        "\"\"\"Напишите ваш код здесь\"\"\""
      ],
      "metadata": {
        "id": "tA8DGgp54qXR"
      },
      "execution_count": null,
      "outputs": []
    },
    {
      "cell_type": "markdown",
      "source": [
        "#### **Решение**: "
      ],
      "metadata": {
        "id": "pPLIbxZ43rIU"
      }
    },
    {
      "cell_type": "code",
      "source": [
        "print(\"В датафрейме кадров без распознанного лица: \", len(df_LLL_copy.loc[df_LLL_copy['num_of_faces'] == 0]))\n",
        "print(\"В датафрейме кадров с тремя распознанными лицами: \", len(df_LLL_copy.loc[df_LLL_copy['num_of_faces'] == 3]))\n",
        "print(\"В датафрейме кадров с четырьмя распознанными лицами: \", len(df_LLL_copy.loc[df_LLL_copy['num_of_faces'] == 4]))"
      ],
      "metadata": {
        "colab": {
          "base_uri": "https://localhost:8080/"
        },
        "id": "Vu8CLy0g3uzP",
        "outputId": "cb131aee-4b33-447d-ce7a-ad4163d582f0"
      },
      "execution_count": null,
      "outputs": [
        {
          "output_type": "stream",
          "name": "stdout",
          "text": [
            "В датафрейме кадров без распознанного лица:  52\n",
            "В датафрейме кадров с тремя распознанными лицами:  0\n",
            "В датафрейме кадров с четырьмя распознанными лицами:  1\n"
          ]
        }
      ]
    },
    {
      "cell_type": "markdown",
      "source": [
        "## **Шаг 8**: Посмотрим на распределение кадров с одним лицом в трейлере и на процентаж, который лицо занимает"
      ],
      "metadata": {
        "id": "7evI9S4o3Aer"
      }
    },
    {
      "cell_type": "code",
      "source": [
        "def creating_dict_with_shot_num_and_face_percentage(one_face_df):\n",
        "    percentage_per_n_frame= {}\n",
        "    for index, row in one_face_df.iterrows():\n",
        "        percentage_per_n_frame[int(row[0][1:3])]= float(row[2].strip(\"[]\"))\n",
        "            \n",
        "    sorted_dict_with_shot_num_and_face_percentage = collections.OrderedDict(sorted(percentage_per_n_frame.items()))\n",
        "    return sorted_dict_with_shot_num_and_face_percentage"
      ],
      "metadata": {
        "id": "RtL5ISAbamqq"
      },
      "execution_count": null,
      "outputs": []
    },
    {
      "cell_type": "code",
      "source": [
        "dict_frame_num_perc = creating_dict_with_shot_num_and_face_percentage(one_face)"
      ],
      "metadata": {
        "id": "wnJdRGuwcYmA"
      },
      "execution_count": null,
      "outputs": []
    },
    {
      "cell_type": "code",
      "source": [
        "def visualize_hist_of_one_face_frames(dictionary, color, num_of_frames_in_film):\n",
        "    fig = plt.figure(figsize=(15,5))\n",
        "    plt.vlines(dictionary.keys(), 0, dictionary.values(), color=color, linewidth=10)\n",
        "    plt.style.use('ggplot')\n",
        "    plt.xticks(np.arange(0, num_of_frames_in_film, 2), rotation = 45)\n",
        "    plt.title(\"One-face frames and its percentages on the timeline of 'La-La-Land trailer'\")\n",
        "    plt.xlabel(\"Frame number\")\n",
        "    plt.ylabel(\"Percentage of face\")\n",
        "    frame_range = np.arange(num_of_frames_in_film)\n",
        "    k, b = np.polyfit(list(dictionary.keys()), list(dictionary.values()), 1)\n",
        "    plt.plot(frame_range, k * frame_range + b, c='b')\n",
        "    plt.show()"
      ],
      "metadata": {
        "id": "AVgx-BS5cpzW"
      },
      "execution_count": null,
      "outputs": []
    },
    {
      "cell_type": "code",
      "source": [
        "visualize_hist_of_one_face_frames(dict_frame_num_perc, \"pink\", 70)"
      ],
      "metadata": {
        "colab": {
          "base_uri": "https://localhost:8080/",
          "height": 360
        },
        "id": "Kw1BYqrPd-9t",
        "outputId": "a79c4c03-54a6-418b-d47d-3584a6c91629"
      },
      "execution_count": null,
      "outputs": [
        {
          "output_type": "display_data",
          "data": {
            "text/plain": [
              "<Figure size 1080x360 with 1 Axes>"
            ],
            "image/png": "[encoded data removed]"
          },
          "metadata": {}
        }
      ]
    },
    {
      "cell_type": "markdown",
      "source": [
        "## **Шаг 9**: посчитаем, в какой трети находится лицо"
      ],
      "metadata": {
        "id": "3ofqUpqw3UmS"
      }
    },
    {
      "cell_type": "code",
      "source": [
        "def greatest_third_part_area_count(face_coords, img_width, img_height=None):\n",
        "\n",
        "    y_top_right, x_top_right,  y_bottom_left, x_bottom_left = face_coords    \n",
        "    face_height = y_bottom_left - y_top_right\n",
        "    x1_third, x2_third = img_width / 3, 2 * img_width / 3\n",
        "    if x_top_right > x2_third and x_bottom_left < x1_third:\n",
        "        return 2\n",
        "    \n",
        "    if x_top_right > x2_third > x_bottom_left:\n",
        "        if x_top_right - x2_third >= x2_third - x_bottom_left:\n",
        "            return 3\n",
        "        else: \n",
        "            return 2\n",
        "    \n",
        "    if x_top_right > x1_third > x_bottom_left:\n",
        "        \n",
        "        if x_top_right - x1_third > x1_third - x_bottom_left:\n",
        "            return 2\n",
        "        else: \n",
        "            return 1\n",
        "    \n",
        "    if x_top_right > x2_third:\n",
        "        return 3\n",
        "    elif x_top_right < x1_third:\n",
        "        return 1\n",
        "    else:\n",
        "        return 2"
      ],
      "metadata": {
        "id": "lcFMpFrreED9"
      },
      "execution_count": null,
      "outputs": []
    },
    {
      "cell_type": "code",
      "source": [
        "def greatest_third_part_intersection(face_coords, img_width, img_height=None):\n",
        "\n",
        "    y_top_right, x_top_right,  y_bottom_left, x_bottom_left = face_coords\n",
        "    face_height = y_bottom_left - y_top_right\n",
        "    x1_third, x2_third = img_width / 3, 2 * img_width / 3\n",
        "    if x_top_right > x2_third and x_bottom_left < x1_third:\n",
        "        return 2\n",
        "    if x_top_right > x2_third:\n",
        "        return \"The face is located in the 3 third of the image\"\n",
        "    elif x_bottom_left < x1_third:\n",
        "        return \"The face is located in the 1 third of the image\"\n",
        "    else:\n",
        "        return 2"
      ],
      "metadata": {
        "id": "8BzqVr-MelwY"
      },
      "execution_count": null,
      "outputs": []
    },
    {
      "cell_type": "code",
      "source": [
        "one_face['face_location'] = None\n",
        "for index, row in one_face.iterrows():\n",
        "    location= greatest_third_part_area_count(row[3],int(row['width']), int(row['height']))\n",
        "    one_face.at[index,'face_location'] = location"
      ],
      "metadata": {
        "colab": {
          "base_uri": "https://localhost:8080/"
        },
        "id": "pc3EqeOGeqRn",
        "outputId": "00b0eb63-f579-4f54-e021-b96bf545e974"
      },
      "execution_count": null,
      "outputs": [
        {
          "output_type": "stream",
          "name": "stderr",
          "text": [
            "WARNING:py.warnings:<ipython-input-141-e4279ee0b693>:1: SettingWithCopyWarning: \n",
            "A value is trying to be set on a copy of a slice from a DataFrame.\n",
            "Try using .loc[row_indexer,col_indexer] = value instead\n",
            "\n",
            "See the caveats in the documentation: https://pandas.pydata.org/pandas-docs/stable/user_guide/indexing.html#returning-a-view-versus-a-copy\n",
            "  one_face['face_location'] = None\n",
            "\n"
          ]
        }
      ]
    },
    {
      "cell_type": "code",
      "source": [
        "one_face.head()"
      ],
      "metadata": {
        "colab": {
          "base_uri": "https://localhost:8080/",
          "height": 206
        },
        "id": "YY1Noi2ZfIz6",
        "outputId": "eea872d0-5181-4176-dc06-9ead8609b7d0"
      },
      "execution_count": null,
      "outputs": [
        {
          "output_type": "execute_result",
          "data": {
            "text/plain": [
              "        frame_num  num_of_faces face_percentage        face_coordinates  \\\n",
              "1   024_frame.jpg             1           [7.9]  [255, 2064, 734, 1585]   \n",
              "2   060_frame.jpg             1          [16.4]  [214, 1747, 904, 1057]   \n",
              "5   030_frame.jpg             1           [1.3]  [144, 1834, 337, 1641]   \n",
              "22  029_frame.jpg             1           [1.3]  [144, 1877, 337, 1684]   \n",
              "23  003_frame.jpg             1           [2.7]  [239, 1687, 517, 1409]   \n",
              "\n",
              "    width  height face_location  \n",
              "1    1136    2558             3  \n",
              "2    1136    2558             3  \n",
              "5    1136    2558             3  \n",
              "22   1136    2558             3  \n",
              "23   1136    2558             3  "
            ],
            "text/html": [
              "\n",
              "  <div id=\"df-e654b952-3025-436b-9d2c-7aeb8bf9d0b4\">\n",
              "    <div class=\"colab-df-container\">\n",
              "      <div>\n",
              "<style scoped>\n",
              "    .dataframe tbody tr th:only-of-type {\n",
              "        vertical-align: middle;\n",
              "    }\n",
              "\n",
              "    .dataframe tbody tr th {\n",
              "        vertical-align: top;\n",
              "    }\n",
              "\n",
              "    .dataframe thead th {\n",
              "        text-align: right;\n",
              "    }\n",
              "</style>\n",
              "<table border=\"1\" class=\"dataframe\">\n",
              "  <thead>\n",
              "    <tr style=\"text-align: right;\">\n",
              "      <th></th>\n",
              "      <th>frame_num</th>\n",
              "      <th>num_of_faces</th>\n",
              "      <th>face_percentage</th>\n",
              "      <th>face_coordinates</th>\n",
              "      <th>width</th>\n",
              "      <th>height</th>\n",
              "      <th>face_location</th>\n",
              "    </tr>\n",
              "  </thead>\n",
              "  <tbody>\n",
              "    <tr>\n",
              "      <th>1</th>\n",
              "      <td>024_frame.jpg</td>\n",
              "      <td>1</td>\n",
              "      <td>[7.9]</td>\n",
              "      <td>[255, 2064, 734, 1585]</td>\n",
              "      <td>1136</td>\n",
              "      <td>2558</td>\n",
              "      <td>3</td>\n",
              "    </tr>\n",
              "    <tr>\n",
              "      <th>2</th>\n",
              "      <td>060_frame.jpg</td>\n",
              "      <td>1</td>\n",
              "      <td>[16.4]</td>\n",
              "      <td>[214, 1747, 904, 1057]</td>\n",
              "      <td>1136</td>\n",
              "      <td>2558</td>\n",
              "      <td>3</td>\n",
              "    </tr>\n",
              "    <tr>\n",
              "      <th>5</th>\n",
              "      <td>030_frame.jpg</td>\n",
              "      <td>1</td>\n",
              "      <td>[1.3]</td>\n",
              "      <td>[144, 1834, 337, 1641]</td>\n",
              "      <td>1136</td>\n",
              "      <td>2558</td>\n",
              "      <td>3</td>\n",
              "    </tr>\n",
              "    <tr>\n",
              "      <th>22</th>\n",
              "      <td>029_frame.jpg</td>\n",
              "      <td>1</td>\n",
              "      <td>[1.3]</td>\n",
              "      <td>[144, 1877, 337, 1684]</td>\n",
              "      <td>1136</td>\n",
              "      <td>2558</td>\n",
              "      <td>3</td>\n",
              "    </tr>\n",
              "    <tr>\n",
              "      <th>23</th>\n",
              "      <td>003_frame.jpg</td>\n",
              "      <td>1</td>\n",
              "      <td>[2.7]</td>\n",
              "      <td>[239, 1687, 517, 1409]</td>\n",
              "      <td>1136</td>\n",
              "      <td>2558</td>\n",
              "      <td>3</td>\n",
              "    </tr>\n",
              "  </tbody>\n",
              "</table>\n",
              "</div>\n",
              "      <button class=\"colab-df-convert\" onclick=\"convertToInteractive('df-e654b952-3025-436b-9d2c-7aeb8bf9d0b4')\"\n",
              "              title=\"Convert this dataframe to an interactive table.\"\n",
              "              style=\"display:none;\">\n",
              "        \n",
              "  <svg xmlns=\"http://www.w3.org/2000/svg\" height=\"24px\"viewBox=\"0 0 24 24\"\n",
              "       width=\"24px\">\n",
              "    <path d=\"M0 0h24v24H0V0z\" fill=\"none\"/>\n",
              "    <path d=\"M18.56 5.44l.94 2.06.94-2.06 2.06-.94-2.06-.94-.94-2.06-.94 2.06-2.06.94zm-11 1L8.5 8.5l.94-2.06 2.06-.94-2.06-.94L8.5 2.5l-.94 2.06-2.06.94zm10 10l.94 2.06.94-2.06 2.06-.94-2.06-.94-.94-2.06-.94 2.06-2.06.94z\"/><path d=\"M17.41 7.96l-1.37-1.37c-.4-.4-.92-.59-1.43-.59-.52 0-1.04.2-1.43.59L10.3 9.45l-7.72 7.72c-.78.78-.78 2.05 0 2.83L4 21.41c.39.39.9.59 1.41.59.51 0 1.02-.2 1.41-.59l7.78-7.78 2.81-2.81c.8-.78.8-2.07 0-2.86zM5.41 20L4 18.59l7.72-7.72 1.47 1.35L5.41 20z\"/>\n",
              "  </svg>\n",
              "      </button>\n",
              "      \n",
              "  <style>\n",
              "    .colab-df-container {\n",
              "      display:flex;\n",
              "      flex-wrap:wrap;\n",
              "      gap: 12px;\n",
              "    }\n",
              "\n",
              "    .colab-df-convert {\n",
              "      background-color: #E8F0FE;\n",
              "      border: none;\n",
              "      border-radius: 50%;\n",
              "      cursor: pointer;\n",
              "      display: none;\n",
              "      fill: #1967D2;\n",
              "      height: 32px;\n",
              "      padding: 0 0 0 0;\n",
              "      width: 32px;\n",
              "    }\n",
              "\n",
              "    .colab-df-convert:hover {\n",
              "      background-color: #E2EBFA;\n",
              "      box-shadow: 0px 1px 2px rgba(60, 64, 67, 0.3), 0px 1px 3px 1px rgba(60, 64, 67, 0.15);\n",
              "      fill: #174EA6;\n",
              "    }\n",
              "\n",
              "    [theme=dark] .colab-df-convert {\n",
              "      background-color: #3B4455;\n",
              "      fill: #D2E3FC;\n",
              "    }\n",
              "\n",
              "    [theme=dark] .colab-df-convert:hover {\n",
              "      background-color: #434B5C;\n",
              "      box-shadow: 0px 1px 3px 1px rgba(0, 0, 0, 0.15);\n",
              "      filter: drop-shadow(0px 1px 2px rgba(0, 0, 0, 0.3));\n",
              "      fill: #FFFFFF;\n",
              "    }\n",
              "  </style>\n",
              "\n",
              "      <script>\n",
              "        const buttonEl =\n",
              "          document.querySelector('#df-e654b952-3025-436b-9d2c-7aeb8bf9d0b4 button.colab-df-convert');\n",
              "        buttonEl.style.display =\n",
              "          google.colab.kernel.accessAllowed ? 'block' : 'none';\n",
              "\n",
              "        async function convertToInteractive(key) {\n",
              "          const element = document.querySelector('#df-e654b952-3025-436b-9d2c-7aeb8bf9d0b4');\n",
              "          const dataTable =\n",
              "            await google.colab.kernel.invokeFunction('convertToInteractive',\n",
              "                                                     [key], {});\n",
              "          if (!dataTable) return;\n",
              "\n",
              "          const docLinkHtml = 'Like what you see? Visit the ' +\n",
              "            '<a target=\"_blank\" href=https://colab.research.google.com/notebooks/data_table.ipynb>data table notebook</a>'\n",
              "            + ' to learn more about interactive tables.';\n",
              "          element.innerHTML = '';\n",
              "          dataTable['output_type'] = 'display_data';\n",
              "          await google.colab.output.renderOutput(dataTable, element);\n",
              "          const docLink = document.createElement('div');\n",
              "          docLink.innerHTML = docLinkHtml;\n",
              "          element.appendChild(docLink);\n",
              "        }\n",
              "      </script>\n",
              "    </div>\n",
              "  </div>\n",
              "  "
            ]
          },
          "metadata": {},
          "execution_count": 142
        }
      ]
    },
    {
      "cell_type": "code",
      "source": [
        "image_show = cv2.imread('./frames/024_frame.jpg')\n",
        "rgb = cv2.cvtColor(image_show, cv2.COLOR_BGR2RGB)\n",
        "image = face_recognition.load_image_file('./frames/024_frame.jpg')\n",
        "image_copy = image.copy()\n",
        "all_face_locations = face_recognition.face_locations(image, number_of_times_to_upsample=2)\n",
        "\n",
        "plt.imshow(rgb)\n",
        "plt.show()\n",
        "\n",
        "greatest_third_part_intersection(all_face_locations[0], 1136, 2558)"
      ],
      "metadata": {
        "colab": {
          "base_uri": "https://localhost:8080/",
          "height": 219
        },
        "id": "ZF31WbZlfQZC",
        "outputId": "5e84390d-c4c9-4656-ed0c-66f423372433"
      },
      "execution_count": null,
      "outputs": [
        {
          "output_type": "display_data",
          "data": {
            "text/plain": [
              "<Figure size 432x288 with 1 Axes>"
            ],
            "image/png": "[encoded data removed]"
          },
          "metadata": {}
        },
        {
          "output_type": "execute_result",
          "data": {
            "text/plain": [
              "'The face is located in the 3 third of the image'"
            ],
            "application/vnd.google.colaboratory.intrinsic+json": {
              "type": "string"
            }
          },
          "metadata": {},
          "execution_count": 145
        }
      ]
    }
  ]
}